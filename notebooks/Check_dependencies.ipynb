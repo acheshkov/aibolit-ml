{
 "cells": [
  {
   "cell_type": "code",
   "execution_count": 1,
   "metadata": {},
   "outputs": [],
   "source": [
    "import pickle\n",
    "import numpy as np\n",
    "import pandas as pd\n",
    "\n",
    "from aibolit.config import Config\n",
    "\n",
    "def scale_dataset(\n",
    "        df: pd.DataFrame,\n",
    "        features_conf: Dict[Any, Any],\n",
    "        scale_ncss=True) -> pd.DataFrame:\n",
    "    config = Config.get_patterns_config()\n",
    "    patterns_codes_set = set([x['code'] for x in config['patterns']])\n",
    "    metrics_codes_set = [x['code'] for x in config['metrics']]\n",
    "    exclude_features = set(config['patterns_exclude']).union(set(config['metrics_exclude']))\n",
    "    used_codes = set(features_conf['features_order'])\n",
    "    used_codes.add('M4')\n",
    "    not_scaled_codes = set(patterns_codes_set).union(set(metrics_codes_set)).difference(used_codes).difference(\n",
    "        exclude_features)\n",
    "    features_not_in_config = set(df.columns).difference(not_scaled_codes).difference(used_codes)\n",
    "    not_scaled_codes = sorted(not_scaled_codes.union(features_not_in_config))\n",
    "    codes_to_scale = sorted(used_codes)\n",
    "    if scale_ncss:\n",
    "        scaled_df = pd.DataFrame(\n",
    "            df[codes_to_scale].values / df['M2'].values.reshape((-1, 1)),\n",
    "            columns=codes_to_scale\n",
    "        )\n",
    "        not_scaled_df = df[not_scaled_codes]\n",
    "        input = pd.concat([scaled_df, not_scaled_df], axis=1)\n",
    "    else:\n",
    "        input = df\n",
    "\n",
    "    return input"
   ]
  },
  {
   "cell_type": "code",
   "execution_count": 1,
   "metadata": {},
   "outputs": [],
   "source": [
    "fid = open('model.pkl', 'rb')\n",
    "model = pickle.load(fid)\n",
    "fid.close()"
   ]
  },
  {
   "cell_type": "code",
   "execution_count": 3,
   "metadata": {},
   "outputs": [],
   "source": [
    "df = pd.read_csv('08-test.csv')\n",
    "data = scale_dataset(df)"
   ]
  },
  {
   "cell_type": "code",
   "execution_count": null,
   "metadata": {},
   "outputs": [],
   "source": [
    "config = Config.get_patterns_config()\n",
    "only_patterns = [\n",
    "    x['code'] for x in list(config['patterns'])\n",
    "    if x['code'] not in config['patterns_exclude']\n",
    "]"
   ]
  },
  {
   "cell_type": "code",
   "execution_count": null,
   "metadata": {},
   "outputs": [],
   "source": [
    "X = data[only_patterns]\n",
    "ncss = data['M2']"
   ]
  },
  {
   "cell_type": "code",
   "execution_count": null,
   "metadata": {},
   "outputs": [],
   "source": [
    "def check_mono(ncss_sn, snippet, i, model):\n",
    "    if snippet[i] == 0:\n",
    "        return 0\n",
    "    k = snippet[i]\n",
    "    sn = snippet.copy()\n",
    "    s = []\n",
    "    while k >= 0:\n",
    "        sn[i] = k\n",
    "        s.append(model.model.predict(sn))\n",
    "        k -= 1 / ncss_sn\n",
    "    s = np.array(s)\n",
    "    w1 = sorted(s)\n",
    "    w2 = w1[::-1]\n",
    "    mask1 = s != w1\n",
    "    mask2 = s != w2\n",
    "    if mask1.sum() == 0 or mask2.sum() == 0:\n",
    "        return 1\n",
    "    return -1"
   ]
  },
  {
   "cell_type": "code",
   "execution_count": null,
   "metadata": {},
   "outputs": [],
   "source": [
    "result = np.zeros(X.shape)\n",
    "for j in range(X.shape[0]):\n",
    "    snippet = X[j, :]\n",
    "    for i in range(len(only_patterns)):\n",
    "        result[j, i] = check_mono(ncss[j], snippet, i, model)"
   ]
  },
  {
   "cell_type": "code",
   "execution_count": null,
   "metadata": {},
   "outputs": [],
   "source": [
    "mono = np.zeros(len(only_patterns))\n",
    "no_mono = np.zeros(len(only_patterns))\n",
    "for i in range(len(only_patterns)):\n",
    "    mono[i] = (result[:, i] > 0).sum()\n",
    "    no_mono[i] = (result[:, i] < 0).sum()"
   ]
  },
  {
   "cell_type": "code",
   "execution_count": null,
   "metadata": {},
   "outputs": [],
   "source": [
    "for i in range(len(only_patterns)):\n",
    "    print(only_patterns[i], '   ', mono[i], '    ', no_mono[i])"
   ]
  }
 ],
 "metadata": {
  "kernelspec": {
   "display_name": "Python 3",
   "language": "python",
   "name": "python3"
  },
  "language_info": {
   "codemirror_mode": {
    "name": "ipython",
    "version": 3
   },
   "file_extension": ".py",
   "mimetype": "text/x-python",
   "name": "python",
   "nbconvert_exporter": "python",
   "pygments_lexer": "ipython3",
   "version": "3.7.7"
  }
 },
 "nbformat": 4,
 "nbformat_minor": 4
}
