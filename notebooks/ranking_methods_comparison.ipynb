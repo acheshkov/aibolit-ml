{
  "nbformat": 4,
  "nbformat_minor": 0,
  "metadata": {
    "accelerator": "GPU",
    "colab": {
      "name": "ranking_methods_comparison",
      "provenance": [],
      "collapsed_sections": [],
      "machine_shape": "hm",
      "include_colab_link": true
    },
    "kernelspec": {
      "name": "python3",
      "display_name": "Python 3"
    },
    "language_info": {
      "codemirror_mode": {
        "name": "ipython",
        "version": 3
      },
      "file_extension": ".py",
      "mimetype": "text/x-python",
      "name": "python",
      "nbconvert_exporter": "python",
      "pygments_lexer": "ipython3",
      "version": "3.7.4"
    }
  },
  "cells": [
    {
      "cell_type": "markdown",
      "metadata": {
        "id": "view-in-github",
        "colab_type": "text"
      },
      "source": [
        "<a href=\"https://colab.research.google.com/github/angusev/aibolit-ml/blob/master/notebooks/ranking_methods_comparison.ipynb\" target=\"_parent\"><img src=\"https://colab.research.google.com/assets/colab-badge.svg\" alt=\"Open In Colab\"/></a>"
      ]
    },
    {
      "cell_type": "code",
      "metadata": {
        "colab_type": "code",
        "id": "hf21z4JtSN-d",
        "colab": {
          "base_uri": "https://localhost:8080/",
          "height": 71
        },
        "outputId": "ccb4fe31-471c-44d0-c30f-388a09370cf9"
      },
      "source": [
        "import torch\n",
        "from torch.autograd import Variable\n",
        "import torch.nn.functional as F\n",
        "import torch.utils.data as Data\n",
        "\n",
        "import matplotlib.pyplot as plt\n",
        "%matplotlib inline\n",
        "\n",
        "import imageio\n",
        "import pandas as pd\n",
        "import numpy as np\n",
        "from sklearn.linear_model import LinearRegression, Lasso, Ridge, HuberRegressor\n",
        "from sklearn.metrics import mean_squared_error, r2_score, mean_absolute_error, \\\n",
        "        explained_variance_score, mean_squared_log_error, mean_tweedie_deviance, \\\n",
        "        classification_report\n",
        "from sklearn.model_selection import GridSearchCV, train_test_split\n",
        "from sklearn.preprocessing import StandardScaler, MinMaxScaler, \\\n",
        "                                    PolynomialFeatures\n",
        "from sklearn.decomposition import PCA\n",
        "import numpy as np\n",
        "from sklearn.ensemble import RandomForestRegressor\n",
        "from sklearn import datasets, linear_model, svm\n",
        "import statsmodels.api as sm\n",
        "from scipy import stats\n",
        "from sklearn.pipeline import Pipeline\n",
        "from sklearn.base import clone\n",
        "import seaborn as sns\n",
        "import torch.optim as optim\n",
        "from tqdm import tqdm\n",
        "from sklearn.metrics import make_scorer\n",
        "from sklearn.base import BaseEstimator\n",
        "import lightgbm as lgbm\n",
        "\n",
        "import csv\n",
        "from itertools import permutations, combinations, chain, tee\n",
        "import scipy.special\n",
        "import random\n",
        "import math\n",
        "import networkx\n",
        "import networkx.algorithms\n",
        "import networkx as nx\n",
        "from collections import defaultdict, OrderedDict"
      ],
      "execution_count": 2,
      "outputs": [
        {
          "output_type": "stream",
          "text": [
            "/usr/local/lib/python3.6/dist-packages/statsmodels/tools/_testing.py:19: FutureWarning: pandas.util.testing is deprecated. Use the functions in the public API at pandas.testing instead.\n",
            "  import pandas.util.testing as tm\n"
          ],
          "name": "stderr"
        }
      ]
    },
    {
      "cell_type": "code",
      "metadata": {
        "id": "i8MXyMBoQbSs",
        "colab_type": "code",
        "outputId": "dab88ab3-d10b-4239-a143-59100e540f98",
        "colab": {
          "base_uri": "https://localhost:8080/",
          "height": 139
        }
      },
      "source": [
        "from google.colab import drive\n",
        "GOOGLE_DRIVE_MOUNT = \"/content/gdrive\"\n",
        "drive.mount(GOOGLE_DRIVE_MOUNT)\n",
        "\n",
        "%cd /content/gdrive/My Drive/aibolit"
      ],
      "execution_count": 3,
      "outputs": [
        {
          "output_type": "stream",
          "text": [
            "Go to this URL in a browser: https://accounts.google.com/o/oauth2/auth?client_id=947318989803-6bn6qk8qdgf4n4g3pfee6491hc0brc4i.apps.googleusercontent.com&redirect_uri=urn%3aietf%3awg%3aoauth%3a2.0%3aoob&response_type=code&scope=email%20https%3a%2f%2fwww.googleapis.com%2fauth%2fdocs.test%20https%3a%2f%2fwww.googleapis.com%2fauth%2fdrive%20https%3a%2f%2fwww.googleapis.com%2fauth%2fdrive.photos.readonly%20https%3a%2f%2fwww.googleapis.com%2fauth%2fpeopleapi.readonly\n",
            "\n",
            "Enter your authorization code:\n",
            "··········\n",
            "Mounted at /content/gdrive\n",
            "/content/gdrive/My Drive/aibolit\n"
          ],
          "name": "stdout"
        }
      ]
    },
    {
      "cell_type": "code",
      "metadata": {
        "id": "Sle2l4D-2L4k",
        "colab_type": "code",
        "colab": {}
      },
      "source": [
        "def mean_absolute_percentage_error(y_true, y_pred):\n",
        "    y_true = np.array(y_true).reshape(-1)\n",
        "    y_pred = np.array(y_pred).reshape(-1)\n",
        "    return np.mean(np.abs((y_true - y_pred) / y_true)) * 100\n",
        "\n",
        "def print_scores(y_test, y_pred):\n",
        "    print('MSE: ', mean_squared_error(y_test, y_pred))\n",
        "    print('MAE: ', mean_absolute_error(y_test, y_pred))\n",
        "    print('MAPE:', mean_absolute_percentage_error(y_test, y_pred))\n",
        "    print('R2:  ', r2_score(y_test, y_pred))\n",
        "    print('VAR:  ', np.var(y_test))"
      ],
      "execution_count": 0,
      "outputs": []
    },
    {
      "cell_type": "code",
      "metadata": {
        "id": "qDzq4A83HY1c",
        "colab_type": "code",
        "outputId": "c5e3583d-7ac9-4b3e-dd1e-7ec8aaf6f18a",
        "colab": {
          "base_uri": "https://localhost:8080/",
          "height": 34
        }
      },
      "source": [
        "ONLY_PATTERNS = ['var_middle_number', 'nested_for_number', 'nested_if_number',\n",
        " 'string_concat_number', 'instance_of_number', 'method_chain_number', 'var_decl_diff_number_5',\n",
        " 'var_decl_diff_number_7', 'var_decl_diff_number_11', 'super_method_call_number',\n",
        " 'for_type_cast_number', 'this_find_number', 'asserts_number', 'setter_number',\n",
        " 'empty_rethrow_number', 'prohibited_class_names_number', 'return_in_if_number', 'impl_multi_number',\n",
        " 'many_prim_ctors_number', 'multiple_try_number', 'non_final_field_number',\n",
        " 'null_check_number', 'part_sync_number', 'red_catch_number', 'return_null_number']\n",
        "\n",
        "FEATURES_NUMBER = len(ONLY_PATTERNS)\n",
        "print(\"Number of features: \", FEATURES_NUMBER)"
      ],
      "execution_count": 5,
      "outputs": [
        {
          "output_type": "stream",
          "text": [
            "Number of features:  25\n"
          ],
          "name": "stdout"
        }
      ]
    },
    {
      "cell_type": "code",
      "metadata": {
        "id": "ymr7_3twTVEd",
        "colab_type": "code",
        "colab": {}
      },
      "source": [
        "df = pd.read_csv('dataset8.csv')\n",
        "df = df.dropna().drop_duplicates(subset=df.columns.difference(['filename']))\n",
        "df = df[(df.ncss > 20) & (df.ncss < 500) & (df.cyclo < 100) & (df.cyclo > 3) \n",
        "                       & (df.npath_method_avg < 100000.00)].copy().reset_index()\n",
        "                       \n",
        "df = df[~df[\"filename\"].str.lower().str.contains(\"test\")]\n",
        "filename_with_index = df['filename']\n",
        "df.drop('filename', axis=1, inplace=True)\n",
        "df.drop('index', axis=1, inplace=True)\n",
        "columns_patterns =  ONLY_PATTERNS\n",
        "\n",
        "X = pd.DataFrame(df[ONLY_PATTERNS].values / df['ncss'].values.reshape((-1, 1)))\n",
        "#X = pd.DataFrame(df[ONLY_PATTERNS].values)\n",
        "y = df[['cyclo']].values #/ df['ncss'].values.reshape(-1)\n",
        "\n",
        "X_train, X_test, y_train, y_test = train_test_split(X.values, y, test_size=0.3, random_state=42)"
      ],
      "execution_count": 0,
      "outputs": []
    },
    {
      "cell_type": "markdown",
      "metadata": {
        "id": "LLdlBMAiw3u5",
        "colab_type": "text"
      },
      "source": [
        "# NN Model"
      ]
    },
    {
      "cell_type": "code",
      "metadata": {
        "id": "X-68ynD95GQj",
        "colab_type": "code",
        "colab": {}
      },
      "source": [
        "import torch\n",
        "import torch.nn as nn\n",
        "import torch.nn.functional as F\n",
        "from typing import List\n",
        "\n",
        "class Maxout(nn.Module):\n",
        "    def __init__(self, d_in, d_out, pool_size):\n",
        "        super().__init__()\n",
        "        self.d_in, self.d_out, self.pool_size = d_in, d_out, pool_size\n",
        "        self.lin = nn.Linear(d_in, d_out * pool_size)\n",
        "\n",
        "    def forward(self, inputs):\n",
        "        shape = list(inputs.size())\n",
        "        shape[-1] = self.d_out\n",
        "        shape.append(self.pool_size)\n",
        "        max_dim = len(shape) - 1\n",
        "        out = self.lin(inputs)\n",
        "        m, i = out.view(*shape).max(max_dim)\n",
        "        return m\n",
        "\n",
        "\n",
        "class Net(nn.Module):\n",
        "    def __init__(self, d, max_out_pool, n_features):\n",
        "        super(Net, self).__init__()\n",
        "        self.f = nn.Sequential(\n",
        "            Maxout(n_features, d, max_out_pool),\n",
        "            Maxout(d, d, max_out_pool),\n",
        "            nn.Linear(d, 1)\n",
        "        )\n",
        "\n",
        "    def forward(self, x):\n",
        "        return self.f(x)\n",
        "\n",
        "\n",
        "class NNModel():\n",
        "  def __init__(self, n_features):\n",
        "    self.d = 50\n",
        "    self.max_out_pool = 2\n",
        "    self.n_features = n_features\n",
        "    self.early_stop = 5\n",
        "    self.lr = 0.002\n",
        "    self.epochs = 200\n",
        "    self.batch_size = 100\n",
        "    self.committee_size = 10\n",
        "\n",
        "  def _check_early_stoppping(self, score_history, epoch) -> bool:\n",
        "    if (len(score_history) == 0): return False\n",
        "    not_improve_counter = 0\n",
        "    best = score_history[0]\n",
        "    for i in range(0, epoch):\n",
        "      if score_history[i] < best:\n",
        "        not_improve_counter = 0\n",
        "        best = score_history[i]\n",
        "      else:\n",
        "        not_improve_counter += 1\n",
        "\n",
        "      if not_improve_counter >= self.early_stop:\n",
        "        return True\n",
        "    return False\n",
        "\n",
        "  def _prepare_data(self, X_train, y_train, X_test, y_test):\n",
        "    train_data = torch.utils.data.TensorDataset(\n",
        "        torch.FloatTensor(X_train), \n",
        "        torch.FloatTensor(y_train)\n",
        "    )\n",
        "    val_data = torch.utils.data.TensorDataset(\n",
        "      torch.FloatTensor(X_test), \n",
        "      torch.FloatTensor(y_test)\n",
        "    )\n",
        "    trainloader = torch.utils.data.DataLoader(\n",
        "        train_data, batch_size=self.batch_size,\n",
        "        shuffle=True)\n",
        "    testloader = torch.utils.data.DataLoader(\n",
        "        val_data, batch_size=self.batch_size,\n",
        "        shuffle=False)\n",
        "    return trainloader, testloader\n",
        "\n",
        "\n",
        "  def _validate(self, model, dl, device=None):\n",
        "    model.eval()\n",
        "    test_loss = 0\n",
        "    accuracy = 0\n",
        "    preds = []\n",
        "    all_labels = []\n",
        "    criterion = torch.nn.MSELoss(reduction='none')\n",
        "    losses = []\n",
        "\n",
        "    with torch.no_grad():\n",
        "        for inputs, labels in dl:\n",
        "            pred = model.forward(inputs)\n",
        "            batch_loss = criterion(pred.squeeze(1), labels.squeeze(1))\n",
        "            all_labels += labels.tolist()\n",
        "            preds += pred.tolist()\n",
        "            losses += batch_loss.tolist()\n",
        "          \n",
        "    avg_loss = np.mean(losses)\n",
        "    r2 = r2_score(all_labels, preds)\n",
        "    mae = mean_absolute_error(all_labels, preds)\n",
        "    y_true, y_pred = np.array(all_labels), np.array(preds)\n",
        "    r2 = r2_score(y_true, y_pred)\n",
        "    mape = mean_absolute_percentage_error(y_true.reshape(-1), y_pred.reshape(-1)) \n",
        "    mse = mean_squared_error(y_true, y_pred) \n",
        "    return r2, avg_loss, mape, mae, mse\n",
        "\n",
        "  def _train_model(self, trainloader, testloader, device=None):\n",
        "    model = Net(self.d, self.max_out_pool, self.n_features)\n",
        "    optimizer = optim.Adam(model.parameters(), lr=self.lr)\n",
        "    criterion = torch.nn.MSELoss()\n",
        "    best_params = None\n",
        "    best_score = -200\n",
        "    r2_epocs = {}\n",
        "\n",
        "    for epoch in range(self.epochs):\n",
        "      model.train()\n",
        "      for inputs, labels in trainloader:\n",
        "          optimizer.zero_grad()\n",
        "          logps = model.forward(inputs)\n",
        "          loss = criterion(logps.squeeze(1), labels.squeeze(1))\n",
        "          loss.backward()\n",
        "          optimizer.step()\n",
        "\n",
        "      _, train_loss, _, _, _ = self._validate(model, trainloader, device)\n",
        "      r2, valid_loss, mape, mae, mse = self._validate(model, testloader, device)\n",
        "      r2_epocs[epoch] = -1 * r2\n",
        "      if (best_score < r2):\n",
        "          torch.save(model.state_dict(), './best.params.bin')\n",
        "          best_score = r2\n",
        "\n",
        "      if self._check_early_stoppping(r2_epocs, epoch):\n",
        "        break\n",
        "\n",
        "    model = Net(self.d, self.max_out_pool, self.n_features)\n",
        "    model.load_state_dict(torch.load('./best.params.bin'))\n",
        "    model.eval()\n",
        "    return model, best_score\n",
        "\n",
        "  def fit(self, X_train, y_train, X_test, y_test) -> None:\n",
        "    trainloader, testloader = self._prepare_data(\n",
        "        X_train, y_train, X_test, y_test\n",
        "    )\n",
        "    self.models = []\n",
        "    self.best_scores = []\n",
        "    for i in range(0, self.committee_size):\n",
        "      model, best_score = self._train_model(trainloader, testloader)\n",
        "      self.models.append(model)\n",
        "      self.best_scores.append(best_score)\n",
        "\n",
        "  def avg_score(self) -> float:\n",
        "    return np.mean(self.best_scores)\n",
        "\n",
        "  def predict(self, X: List[List[float]]) -> List[List[int]]:\n",
        "    '''Takes in list of patterns tuples\n",
        "       and for each combinaion returns list of pattern\n",
        "       indexes ordered by importance \n",
        "    '''\n",
        "\n",
        "    grad_accum = torch.zeros_like(torch.FloatTensor(X))\n",
        "    for model in self.models:\n",
        "      model.eval()\n",
        "      x = torch.FloatTensor(X)\n",
        "      x.requires_grad_(True)\n",
        "      y = model(x)\n",
        "      y.mean().backward()\n",
        "      grad_accum += (x.grad.detach() * torch.FloatTensor([1])).softmax(dim=1)\n",
        "\n",
        "    return np.array(grad_accum.argsort(dim=1, descending=True).tolist())\n"
      ],
      "execution_count": 0,
      "outputs": []
    },
    {
      "cell_type": "code",
      "metadata": {
        "id": "SsX0EsIg_az3",
        "colab_type": "code",
        "outputId": "fe82bf03-5898-4009-f898-c58e0a601c91",
        "colab": {
          "base_uri": "https://localhost:8080/",
          "height": 51
        }
      },
      "source": [
        "%%time\n",
        "\n",
        "net = NNModel(n_features=FEATURES_NUMBER)\n",
        "net.fit(X_train, y_train, X_test, y_test)\n",
        "X = np.random.rand(2, FEATURES_NUMBER)"
      ],
      "execution_count": 7,
      "outputs": [
        {
          "output_type": "stream",
          "text": [
            "CPU times: user 21min 19s, sys: 10.8 s, total: 21min 30s\n",
            "Wall time: 10min 25s\n"
          ],
          "name": "stdout"
        }
      ]
    },
    {
      "cell_type": "code",
      "metadata": {
        "id": "6R-zsYzni3FW",
        "colab_type": "code",
        "colab": {}
      },
      "source": [
        "net_pred = net.predict(X_test)"
      ],
      "execution_count": 0,
      "outputs": []
    },
    {
      "cell_type": "code",
      "metadata": {
        "id": "oI_C9gntEiEi",
        "colab_type": "code",
        "outputId": "c93b267a-d498-406c-c2c5-fb4bc0996810",
        "colab": {
          "base_uri": "https://localhost:8080/",
          "height": 102
        }
      },
      "source": [
        "trainloader, testloader = net._prepare_data(X_train, y_train, X_test, y_test)\n",
        "net._validate(net.models[0], testloader)"
      ],
      "execution_count": 9,
      "outputs": [
        {
          "output_type": "execute_result",
          "data": {
            "text/plain": [
              "(0.3977617568895345,\n",
              " 182.11386219495,\n",
              " 71.3585347749577,\n",
              " 9.025059589398621,\n",
              " 182.11386271459384)"
            ]
          },
          "metadata": {
            "tags": []
          },
          "execution_count": 9
        }
      ]
    },
    {
      "cell_type": "markdown",
      "metadata": {
        "id": "THpI_nIBVtZo",
        "colab_type": "text"
      },
      "source": [
        "# Two fold model"
      ]
    },
    {
      "cell_type": "code",
      "metadata": {
        "id": "9g6kxg4HjX4U",
        "colab_type": "code",
        "outputId": "9a932a0d-5604-401d-950c-8ffb4b011756",
        "colab": {
          "base_uri": "https://localhost:8080/",
          "height": 275
        }
      },
      "source": [
        "! pip install catboost\n",
        "from catboost import CatBoostRegressor"
      ],
      "execution_count": 35,
      "outputs": [
        {
          "output_type": "stream",
          "text": [
            "Requirement already satisfied: catboost in /usr/local/lib/python3.6/dist-packages (0.22)\n",
            "Requirement already satisfied: pandas>=0.24.0 in /usr/local/lib/python3.6/dist-packages (from catboost) (1.0.3)\n",
            "Requirement already satisfied: matplotlib in /usr/local/lib/python3.6/dist-packages (from catboost) (3.2.1)\n",
            "Requirement already satisfied: scipy in /usr/local/lib/python3.6/dist-packages (from catboost) (1.4.1)\n",
            "Requirement already satisfied: plotly in /usr/local/lib/python3.6/dist-packages (from catboost) (4.4.1)\n",
            "Requirement already satisfied: numpy>=1.16.0 in /usr/local/lib/python3.6/dist-packages (from catboost) (1.18.2)\n",
            "Requirement already satisfied: six in /usr/local/lib/python3.6/dist-packages (from catboost) (1.12.0)\n",
            "Requirement already satisfied: graphviz in /usr/local/lib/python3.6/dist-packages (from catboost) (0.10.1)\n",
            "Requirement already satisfied: python-dateutil>=2.6.1 in /usr/local/lib/python3.6/dist-packages (from pandas>=0.24.0->catboost) (2.8.1)\n",
            "Requirement already satisfied: pytz>=2017.2 in /usr/local/lib/python3.6/dist-packages (from pandas>=0.24.0->catboost) (2018.9)\n",
            "Requirement already satisfied: kiwisolver>=1.0.1 in /usr/local/lib/python3.6/dist-packages (from matplotlib->catboost) (1.2.0)\n",
            "Requirement already satisfied: pyparsing!=2.0.4,!=2.1.2,!=2.1.6,>=2.0.1 in /usr/local/lib/python3.6/dist-packages (from matplotlib->catboost) (2.4.7)\n",
            "Requirement already satisfied: cycler>=0.10 in /usr/local/lib/python3.6/dist-packages (from matplotlib->catboost) (0.10.0)\n",
            "Requirement already satisfied: retrying>=1.3.3 in /usr/local/lib/python3.6/dist-packages (from plotly->catboost) (1.3.3)\n"
          ],
          "name": "stdout"
        }
      ]
    },
    {
      "cell_type": "code",
      "metadata": {
        "id": "9WiC_tOAf_-7",
        "colab_type": "code",
        "colab": {}
      },
      "source": [
        "class TwoFoldRankingModel(BaseEstimator):\n",
        "    importances = None\n",
        "    model = None\n",
        "\n",
        "    def __init__(self, tree_method='CatBoost'):\n",
        "        if tree_method not in ['CatBoost', 'RF', 'LGBM']:\n",
        "            raise \"Unknown tree_method\"\n",
        "        self.tree_method = tree_method\n",
        "\n",
        "    def fit(self, X, y):\n",
        "        if self.tree_method == 'CatBoost':\n",
        "            cat = CatBoostRegressor(verbose=0)\n",
        "            cat.fit(X, y.ravel())\n",
        "            self.model = cat\n",
        "        elif self.tree_method == 'LGBM':\n",
        "            lgbr = lgbm.LGBMRegressor(\n",
        "                            learning_rate = 0.01, \n",
        "                            n_estimators = 1000\n",
        "                            )\n",
        "            lgbr.fit(X_train, y_train.ravel())\n",
        "            self.model = lgbr\n",
        "        elif self.tree_method == 'RF':\n",
        "            rf_regr = RandomForestRegressor()\n",
        "            rf_regr.fit(X_train, y_train)\n",
        "            self.model = rf_regr\n",
        "        \n",
        "        self.importances = self.model.feature_importances_\n",
        "\n",
        "    def predict(self, X, quantity_func='log'):   #  code snippet -- patterns representation\n",
        "        patterns_number = self.importances.size\n",
        "        ranked = []\n",
        "        for snippet in X:\n",
        "            if quantity_func == 'log':\n",
        "                log_q = np.log(snippet + 1)\n",
        "                pairs = np.vstack((log_q * self.importances,\n",
        "                            np.arange(patterns_number))).T\n",
        "            elif quantity_func == 'linear':\n",
        "                pairs = np.vstack((snippet * self.importances,\n",
        "                            np.arange(patterns_number))).T\n",
        "            elif quantity_func == 'exp':\n",
        "                exp_q = np.exp(snippet + 1)\n",
        "                pairs = np.vstack((exp_q * self.importances,\n",
        "                            np.arange(patterns_number))).T\n",
        "            else:\n",
        "                raise \"Unknown func\"\n",
        "            pairs = pairs[pairs[:,0].argsort()]\n",
        "            ranked.append(pairs[:,1].T.tolist()[::-1])\n",
        "\n",
        "        return np.array(ranked)\n",
        "\n",
        "    def recommend(self, snippet, display=False):\n",
        "        log_q = np.log(snippet + 1)\n",
        "        patterns_number = self.importances.size\n",
        "        pairs = np.vstack((log_q * self.importances,\n",
        "                           np.arange(patterns_number)))\n",
        "        pairs = pairs.T.tolist()\n",
        "        pairs.sort(reverse=True)\n",
        "        pairs = list(map(lambda p: [p[0], int(p[1])], pairs))\n",
        "        recommendation = ONLY_PATTERNS[pairs[0][1]]\n",
        "        if display:\n",
        "            print(recommendation)\n",
        "        \n",
        "        return recommendation\n"
      ],
      "execution_count": 0,
      "outputs": []
    },
    {
      "cell_type": "code",
      "metadata": {
        "id": "tUV56x_6NvxU",
        "colab_type": "code",
        "outputId": "da3e852d-15da-4d6b-d573-5aecdd7643e4",
        "colab": {
          "base_uri": "https://localhost:8080/",
          "height": 51
        }
      },
      "source": [
        "%%time \n",
        "\n",
        "twofold_model = TwoFoldRankingModel()\n",
        "twofold_model.fit(X_train, y_train)"
      ],
      "execution_count": 37,
      "outputs": [
        {
          "output_type": "stream",
          "text": [
            "CPU times: user 17.1 s, sys: 1.11 s, total: 18.2 s\n",
            "Wall time: 5.11 s\n"
          ],
          "name": "stdout"
        }
      ]
    },
    {
      "cell_type": "code",
      "metadata": {
        "id": "uP0AnIEni9mJ",
        "colab_type": "code",
        "colab": {}
      },
      "source": [
        "twofold_pred_log = twofold_model.predict(X_test, 'log')\n",
        "twofold_pred_lin = twofold_model.predict(X_test, 'linear')"
      ],
      "execution_count": 0,
      "outputs": []
    },
    {
      "cell_type": "code",
      "metadata": {
        "id": "UgWDzHxaIIdz",
        "colab_type": "code",
        "outputId": "f6677f52-24a0-48c0-f0df-db3bc5f1fdaf",
        "colab": {
          "base_uri": "https://localhost:8080/",
          "height": 102
        }
      },
      "source": [
        "print_scores(y_test, twofold_model.model.predict(X_test))"
      ],
      "execution_count": 39,
      "outputs": [
        {
          "output_type": "stream",
          "text": [
            "MSE:  109.48457589638505\n",
            "MAE:  6.442956222968394\n",
            "MAPE: 49.84667085994198\n",
            "R2:   0.6379419026498441\n",
            "VAR:   302.3950484678696\n"
          ],
          "name": "stdout"
        }
      ]
    },
    {
      "cell_type": "markdown",
      "metadata": {
        "id": "pSXA35vGcoXb",
        "colab_type": "text"
      },
      "source": [
        "# Pairwise SVM"
      ]
    },
    {
      "cell_type": "code",
      "metadata": {
        "id": "aFU-pu4GdUCN",
        "colab_type": "code",
        "colab": {}
      },
      "source": [
        "class PairWiseSVM(BaseEstimator):\n",
        "    svm_params = {}\n",
        "    model = None\n",
        "\n",
        "    def __init__(self, params={'C': 1000, 'gamma': 0.001, 'kernel': 'rbf', 'probability': True}):\n",
        "        self.svm_params = params\n",
        "    \n",
        "    def fit(self, X, y, display=True, pairs_number=10 ** 4):\n",
        "        if display:\n",
        "            print('Starting pairs dataset generation...')\n",
        "        X_pairs, y_pairs_comp = self.generate_pairs_dataset(X, y, pairs_number=pairs_number, display=True)\n",
        "        if display:\n",
        "            print('Generated')\n",
        "        \n",
        "        if display:\n",
        "            print('SVM learning start...')\n",
        "        self.model = svm.SVC(**self.svm_params)\n",
        "        self.model.fit(X_pairs, y_pairs_comp)\n",
        "\n",
        "    def validate(self, X, y, display=True):\n",
        "        X_pairs, y_pairs_comp = self.generate_pairs_dataset(X, y, 1000)\n",
        "        y_pairs_comp_pred = self.model.predict(X_pairs)\n",
        "        report = classification_report(y_pairs_comp, y_pairs_comp_pred)\n",
        "        if display:\n",
        "            print(report)\n",
        "        return report\n",
        "\n",
        "    def predict_topological(self, X, display=False):\n",
        "        ranked = []\n",
        "        for arr in X:\n",
        "            changed_arrs = []\n",
        "            for i, item in enumerate(arr):\n",
        "                elem = arr[i]\n",
        "                if elem <= 0:\n",
        "                    continue\n",
        "                else:\n",
        "                    arr_new = arr.copy()\n",
        "                    arr_new[i] = arr[i] - 1\n",
        "                    changed_arrs.append([i, arr_new])\n",
        "            \n",
        "            orders = []\n",
        "            preds = defaultdict(dict)\n",
        "            for elem1, elem2 in combinations(changed_arrs, 2):\n",
        "                index_1 = elem1[0]\n",
        "                index_2 = elem2[0]\n",
        "                input_data = np.hstack((elem1[1], elem2[1])).reshape(1, -1)\n",
        "                pred_p = self.model.predict_proba(input_data)\n",
        "                pred = self.model.predict(input_data)\n",
        "                if pred == 1:\n",
        "                    orders.append([elem1[0], elem2[0]])\n",
        "                else:\n",
        "                    orders.append([elem2[0], elem1[0]])\n",
        "\n",
        "            try:\n",
        "                res = self.topological_sort(orders, display)\n",
        "                ranked.append(res)\n",
        "            except nx.NetworkXUnfeasible as e:\n",
        "                raise 'We have a cycle in a graph, use another method'\n",
        "        return ranked\n",
        "\n",
        "    def generate_pairs_dataset(self, X, y, pairs_number=10000, display=False):\n",
        "        def to_bool(s):\n",
        "            return 1 if s else 0\n",
        "\n",
        "        def calc_closest_dataset_size_using_permutation(dataset_size):\n",
        "            # 2-permuations of n =  n*(n-1)\n",
        "            return int(math.sqrt(dataset_size))\n",
        "\n",
        "        indices = []\n",
        "        real_patterns_number = calc_closest_dataset_size_using_permutation(pairs_number)\n",
        "        random_indices = random.sample(range(X.shape[0]), real_patterns_number)\n",
        "        perms = permutations(random_indices, 2)\n",
        "        lst = list(perms)\n",
        "        matrix = []\n",
        "\n",
        "        bs_indexes1, bs_indexes2 = self.generate_index_pairs(X.shape[0], pairs_number)\n",
        "        X_bs1 = X[bs_indexes1]\n",
        "        X_bs2 = X[bs_indexes2]\n",
        "        target = (y[bs_indexes1] < y[bs_indexes2]).astype(np.int_)\n",
        "        return np.hstack((X_bs1, X_bs2)), target\n",
        "\n",
        "    def predict(self, X, display=False):\n",
        "        ranked = []\n",
        "        for arr in X:\n",
        "            changed_arrs = []\n",
        "            for i, item in enumerate(arr):\n",
        "                elem = arr[i]\n",
        "                if elem <= 0:\n",
        "                    continue\n",
        "                else:\n",
        "                    arr_new = arr.copy()\n",
        "                    arr_new[i] = arr[i] - 1\n",
        "                    changed_arrs.append([i, arr_new])\n",
        "\n",
        "            res_arr = {}\n",
        "            for i, x in changed_arrs:\n",
        "                input_data = np.hstack((x, arr)).reshape(1, -1)\n",
        "                pred = self.model.predict_proba(input_data)[:, 1]\n",
        "                res_arr[i] = pred[0]\n",
        "            \n",
        "            sorted_res = OrderedDict(sorted(res_arr.items(), key=lambda x: x[1], reverse=True))\n",
        "            top_recommend = list(sorted_res.keys())\n",
        "            ranked.append(top_recommend + list(filter(lambda x: x not in top_recommend, range(FEATURES_NUMBER))))\n",
        "\n",
        "        return np.array(ranked)\n",
        "            \n",
        "    @staticmethod\n",
        "    def topological_sort(sublists, display=False):\n",
        "        graph = networkx.DiGraph(sublists)\n",
        "        if display:\n",
        "            networkx.draw(graph, with_labels=True, font_weight='bold')\n",
        "        return list(networkx.algorithms.topological_sort(graph))\n",
        "\n",
        "    @staticmethod\n",
        "    def generate_index_pairs(n, pairs_number=10000, max_iter=10000, display=True):\n",
        "        bs_indexes1 = np.array([0])\n",
        "        bs_indexes2 = np.array([0])\n",
        "        i = 0\n",
        "        while 0 in (bs_indexes1 - bs_indexes2) and i < max_iter:\n",
        "            bs_indexes1 = np.random.randint(0, n, pairs_number)\n",
        "            bs_indexes2 = np.random.randint(0, n, pairs_number)\n",
        "            i += 1\n",
        "\n",
        "        assert i < max_iter, \"iterations number exceeded\"\n",
        "        if display:\n",
        "            print('bootstrap iterations:', i)\n",
        "        return bs_indexes1, bs_indexes2\n"
      ],
      "execution_count": 0,
      "outputs": []
    },
    {
      "cell_type": "code",
      "metadata": {
        "id": "opUYXHNemNpD",
        "colab_type": "code",
        "outputId": "eb168da0-4fdf-4af8-ccc2-eab8227bb297",
        "colab": {
          "base_uri": "https://localhost:8080/",
          "height": 122
        }
      },
      "source": [
        "%%time\n",
        "\n",
        "pw_model = PairWiseSVM()\n",
        "pw_model.fit(X_train, y_train, display=False)"
      ],
      "execution_count": 41,
      "outputs": [
        {
          "output_type": "stream",
          "text": [
            "bootstrap iterations: 2\n"
          ],
          "name": "stdout"
        },
        {
          "output_type": "stream",
          "text": [
            "/usr/local/lib/python3.6/dist-packages/sklearn/utils/validation.py:760: DataConversionWarning: A column-vector y was passed when a 1d array was expected. Please change the shape of y to (n_samples, ), for example using ravel().\n",
            "  y = column_or_1d(y, warn=True)\n"
          ],
          "name": "stderr"
        },
        {
          "output_type": "stream",
          "text": [
            "CPU times: user 50.6 s, sys: 172 ms, total: 50.7 s\n",
            "Wall time: 50.7 s\n"
          ],
          "name": "stdout"
        }
      ]
    },
    {
      "cell_type": "code",
      "metadata": {
        "id": "D0VVQXrEmLAA",
        "colab_type": "code",
        "outputId": "a4ecb95a-1dd7-4e97-e083-e9877f8fc6af",
        "colab": {
          "base_uri": "https://localhost:8080/",
          "height": 187
        }
      },
      "source": [
        "pw_model.validate(X_test, y_test);"
      ],
      "execution_count": 42,
      "outputs": [
        {
          "output_type": "stream",
          "text": [
            "bootstrap iterations: 1\n",
            "              precision    recall  f1-score   support\n",
            "\n",
            "           0       0.62      0.79      0.69       528\n",
            "           1       0.66      0.46      0.54       472\n",
            "\n",
            "    accuracy                           0.63      1000\n",
            "   macro avg       0.64      0.62      0.62      1000\n",
            "weighted avg       0.64      0.63      0.62      1000\n",
            "\n"
          ],
          "name": "stdout"
        }
      ]
    },
    {
      "cell_type": "code",
      "metadata": {
        "id": "1Plo_tN_yrjC",
        "colab_type": "code",
        "colab": {}
      },
      "source": [
        "pw_pred = pw_model.predict(X_test)"
      ],
      "execution_count": 0,
      "outputs": []
    },
    {
      "cell_type": "markdown",
      "metadata": {
        "id": "A-RUQZZaixUg",
        "colab_type": "text"
      },
      "source": [
        "# Comparison"
      ]
    },
    {
      "cell_type": "code",
      "metadata": {
        "id": "rNIVwmtC372V",
        "colab_type": "code",
        "colab": {}
      },
      "source": [
        "mask = X_test != 0\n",
        "\n",
        "patterns_frequencies = mask.astype(np.int_).sum(axis=0)"
      ],
      "execution_count": 0,
      "outputs": []
    },
    {
      "cell_type": "code",
      "metadata": {
        "id": "0sOvSonekWNq",
        "colab_type": "code",
        "outputId": "d7dc6412-e628-451e-d87f-c9f1c62a890f",
        "colab": {
          "base_uri": "https://localhost:8080/",
          "height": 527
        }
      },
      "source": [
        "plt.figure(figsize=(18, 6))\n",
        "sns.distplot(twofold_pred_log[:,0], label='TwoFold_log(q)', bins=FEATURES_NUMBER)\n",
        "sns.distplot(pw_pred[:,0], label='Pairwise', bins=FEATURES_NUMBER)\n",
        "sns.distplot(net_pred[:,0], label='NN', bins=FEATURES_NUMBER)\n",
        "\n",
        "sns.barplot(list(range(len(patterns_frequencies))), patterns_frequencies / patterns_frequencies.sum(),\n",
        "        color='gray', alpha=0.5, label='pattern frequence')\n",
        "\n",
        "plt.grid()\n",
        "plt.xlim(0, FEATURES_NUMBER)\n",
        "plt.xticks(range(0, FEATURES_NUMBER), labels=ONLY_PATTERNS, rotation=80)\n",
        "plt.legend();"
      ],
      "execution_count": 25,
      "outputs": [
        {
          "output_type": "display_data",
          "data": {
            "image/png": "[encoded data removed]",
            "text/plain": [
              "<Figure size 1296x432 with 1 Axes>"
            ]
          },
          "metadata": {
            "tags": [],
            "needs_background": "light"
          }
        }
      ]
    },
    {
      "cell_type": "code",
      "metadata": {
        "id": "fdwv9vPkg6S7",
        "colab_type": "code",
        "colab": {
          "base_uri": "https://localhost:8080/",
          "height": 102
        },
        "outputId": "fe2715bd-3151-4bb3-a1a4-950af6bc15c3"
      },
      "source": [
        "def pairs_number(a):\n",
        "    return a.size - len(set(a.tolist()))\n",
        "\n",
        "\n",
        "for pos in range(1, 6):\n",
        "    stacked = np.hstack((twofold_pred_log[:,:pos].copy(), pw_pred[:,:pos].copy()))        \n",
        "    pairs = np.apply_along_axis(pairs_number, 1, stacked)\n",
        "    share = np.sum(pairs) / twofold_pred_log[:,:pos].size\n",
        "    print(pos, 'positions:', share.round(5))"
      ],
      "execution_count": 44,
      "outputs": [
        {
          "output_type": "stream",
          "text": [
            "1 positions: 0.45659\n",
            "2 positions: 0.58027\n",
            "3 positions: 0.60259\n",
            "4 positions: 0.6601\n",
            "5 positions: 0.72249\n"
          ],
          "name": "stdout"
        }
      ]
    },
    {
      "cell_type": "markdown",
      "metadata": {
        "id": "mXPuFeNdJ1nP",
        "colab_type": "text"
      },
      "source": [
        "-------------------------------------------------------"
      ]
    }
  ]
}