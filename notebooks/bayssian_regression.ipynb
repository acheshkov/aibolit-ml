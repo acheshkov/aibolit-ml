{
 "cells": [
  {
   "cell_type": "code",
   "execution_count": 1,
   "metadata": {
    "colab": {
     "base_uri": "https://localhost:8080/",
     "height": 71
    },
    "colab_type": "code",
    "id": "hf21z4JtSN-d",
    "outputId": "ccb4fe31-471c-44d0-c30f-388a09370cf9"
   },
   "outputs": [],
   "source": [
    "import matplotlib.pyplot as plt\n",
    "%matplotlib inline\n",
    "\n",
    "import imageio\n",
    "import pandas as pd\n",
    "import numpy as np\n",
    "from sklearn.linear_model import LinearRegression, Lasso, Ridge, HuberRegressor\n",
    "from sklearn.metrics import mean_squared_error, r2_score, mean_absolute_error, \\\n",
    "        explained_variance_score, mean_squared_log_error, \\\n",
    "        classification_report\n",
    "from sklearn.model_selection import GridSearchCV, train_test_split\n",
    "from sklearn.preprocessing import StandardScaler, MinMaxScaler, \\\n",
    "                                    PolynomialFeatures\n",
    "from sklearn.decomposition import PCA\n",
    "import numpy as np\n",
    "from sklearn.ensemble import RandomForestRegressor\n",
    "from sklearn import datasets, linear_model, svm\n",
    "import statsmodels.api as sm\n",
    "from scipy import stats\n",
    "from sklearn.pipeline import Pipeline\n",
    "from sklearn.base import clone\n",
    "import seaborn as sns\n",
    "from tqdm import tqdm\n",
    "from sklearn.metrics import make_scorer\n",
    "from sklearn.base import BaseEstimator\n",
    "import csv\n",
    "from itertools import permutations, combinations, chain, tee\n",
    "import scipy.special\n",
    "import random\n",
    "import math\n",
    "from collections import defaultdict, OrderedDict\n",
    "from catboost import CatBoostRegressor\n",
    "from catboost import CatBoost"
   ]
  },
  {
   "cell_type": "code",
   "execution_count": 2,
   "metadata": {
    "colab": {},
    "colab_type": "code",
    "id": "Sle2l4D-2L4k"
   },
   "outputs": [],
   "source": [
    "def mean_absolute_percentage_error(y_true, y_pred):\n",
    "    y_true = np.array(y_true).reshape(-1)\n",
    "    y_pred = np.array(y_pred).reshape(-1)\n",
    "    return np.mean(np.abs((y_true - y_pred) / y_true)) * 100\n",
    "\n",
    "def print_scores(y_test, y_pred):\n",
    "    print('MSE: ', mean_squared_error(y_test, y_pred))\n",
    "    print('MAE: ', mean_absolute_error(y_test, y_pred))\n",
    "    print('R2:  ', r2_score(y_test, y_pred))\n",
    "    print('VAR:  ', np.var(y_test))"
   ]
  },
  {
   "cell_type": "code",
   "execution_count": 3,
   "metadata": {},
   "outputs": [
    {
     "name": "stderr",
     "output_type": "stream",
     "text": [
      "c:\\users\\admin\\work\\featureimportance\\venv\\lib\\site-packages\\IPython\\core\\interactiveshell.py:3063: DtypeWarning: Columns (52) have mixed types.Specify dtype option on import or set low_memory=False.\n",
      "  interactivity=interactivity, compiler=compiler, result=result)\n"
     ]
    }
   ],
   "source": [
    "df = pd.read_csv('dataset12.csv')"
   ]
  },
  {
   "cell_type": "code",
   "execution_count": 4,
   "metadata": {},
   "outputs": [
    {
     "data": {
      "text/plain": [
       "Index(['filename', 'cyclo', 'cyclo_method_avg', 'cyclo_method_min',\n",
       "       'cyclo_method_max', 'npath_method_avg', 'npath_method_min',\n",
       "       'npath_method_max', 'ncss', 'ncss_method_avg', 'ncss_method_min',\n",
       "       'ncss_method_max', 'P1', 'P2', 'P3', 'P4', 'P5', 'P6', 'P7', 'P8', 'P9',\n",
       "       'P10', 'P11', 'P12', 'P13', 'P14', 'P15', 'P16', 'P17', 'P18', 'P19',\n",
       "       'P20_5', 'P20_7', 'P20_11', 'P21', 'P22', 'P23', 'P24', 'P25', 'P26',\n",
       "       'P28', 'P29', 'P30', 'P33', 'M1', 'M2', 'M3_1', 'M3_2', 'M3_3', 'M3_4',\n",
       "       'M4', 'M5', 'M6', 'lines_P1', 'lines_P2', 'lines_P3', 'lines_P4',\n",
       "       'lines_P5', 'lines_P6', 'lines_P7', 'lines_P8', 'lines_P9', 'lines_P10',\n",
       "       'lines_P11', 'lines_P12', 'lines_P13', 'lines_P14', 'lines_P15',\n",
       "       'lines_P16', 'lines_P17', 'lines_P18', 'lines_P19', 'lines_P20_5',\n",
       "       'lines_P20_7', 'lines_P20_11', 'lines_P21', 'lines_P22', 'lines_P23',\n",
       "       'lines_P24', 'lines_P25', 'lines_P26', 'lines_P28', 'lines_P29',\n",
       "       'lines_P30', 'lines_P33', 'halstead volume'],\n",
       "      dtype='object')"
      ]
     },
     "execution_count": 4,
     "metadata": {},
     "output_type": "execute_result"
    }
   ],
   "source": [
    "df.columns"
   ]
  },
  {
   "cell_type": "code",
   "execution_count": 5,
   "metadata": {},
   "outputs": [],
   "source": [
    "def get_patterns_config():\n",
    "        return {\n",
    "            \"patterns\": [\n",
    "                {\"name\": \"Asserts\", \"code\": \"P1\", \"make\": lambda: P1()},\n",
    "                {\"name\": \"Setters\", \"code\": \"P2\", \"make\": lambda: P2()},\n",
    "                {\"name\": \"Empty Rethrow\", \"code\": \"P3\", \"make\": lambda: P3()},\n",
    "                {\"name\": \"Prohibited class name\", \"code\": \"P4\", \"make\": lambda: P4()},\n",
    "                {\"name\": \"Force Type Casting\", \"code\": \"P5\", \"make\": lambda: P5()},\n",
    "                {\"name\": \"Count If Return\", \"code\": \"P6\", \"make\": lambda: P6()},\n",
    "                {\"name\": \"Implements Multi\", \"code\": \"P7\", \"make\": lambda: P7()},\n",
    "                {\"name\": \"Instance of\", \"code\": \"P8\", \"make\": lambda: P8()},\n",
    "                {\"name\": \"Many primary constructors\", \"code\": \"P9\", \"make\": lambda: P9()},\n",
    "                {\"name\": \"Method chain\", \"code\": \"P10\", \"make\": lambda: P10()},\n",
    "                {\"name\": \"Multiple try\", \"code\": \"P11\", \"make\": lambda: P11()},\n",
    "                {\"name\": \"Non final attribute\", \"code\": \"P12\", \"make\": lambda: P12()},\n",
    "                {\"name\": \"Null check\", \"code\": \"P13\", \"make\": lambda: P13()},\n",
    "                {\"name\": \"Partial synchronized\", \"code\": \"P14\", \"make\": lambda: P14()},\n",
    "                {\"name\": \"Redundant catch\", \"code\": \"P15\", \"make\": lambda: P15()},\n",
    "                {\"name\": \"Return null\", \"code\": \"P16\", \"make\": lambda: P16()},\n",
    "                {\"name\": \"String concat\", \"code\": \"P17\", \"make\": lambda: P17()},\n",
    "                {\"name\": \"Super Method\", \"code\": \"P18\", \"make\": lambda: P18()},\n",
    "                {\"name\": \"This in constructor\", \"code\": \"P19\", \"make\": lambda: P19()},\n",
    "                {\n",
    "                    \"name\": \"Var declaration distance for 5 lines\",\n",
    "                    \"code\": \"P20_5\",\n",
    "                    \"make\": lambda: P20(5)\n",
    "                },\n",
    "                {\n",
    "                    \"name\": \"Var declaration distance for 7 lines\",\n",
    "                    \"code\": \"P20_7\",\n",
    "                    \"make\": lambda: P20(7)\n",
    "                },\n",
    "                {\n",
    "                    \"name\": \"Var declaration distance for 11 lines\",\n",
    "                    \"code\": \"P20_11\",\n",
    "                    \"make\": lambda: P20(11)\n",
    "                },\n",
    "                {\"name\": \"Var in the middle\", \"code\": \"P21\", \"make\": lambda: P21()},\n",
    "                {\"name\": \"Array as function argument\", \"code\": \"P22\", \"make\": lambda: P22()},\n",
    "                {\"name\": \"Joined validation\", \"code\": \"P23\", \"make\": lambda: P23()},\n",
    "                {\"name\": \"Non final class\", \"code\": \"P24\", \"make\": lambda: P24()},\n",
    "                {\"name\": \"Private static method\", \"code\": \"P25\", \"make\": lambda: P25()},\n",
    "                {\"name\": \"Public static method\", \"code\": \"P26\", \"make\": lambda: P26()},\n",
    "                #{\"name\": \"Var siblings\", \"code\": \"P27\", \"make\": lambda: P27()},\n",
    "                {\"name\": \"Null Assignment\", \"code\": \"P28\", \"make\": lambda: P28()},\n",
    "                {\"name\": \"Multiple While\", \"code\": \"P29\", \"make\": lambda: P29()},\n",
    "                {\"name\": \"Protected Method\", \"code\": \"P30\", \"make\": lambda: P30()},\n",
    "                #{\"name\": \"Send Null\", \"code\": \"P31\", \"make\": lambda: P31()},\n",
    "                #{\"name\": \"Nested Loop\", \"code\": \"P32\", \"make\": lambda: P32()},\n",
    "                #{\"name\": \"MultipleWhile\", \"code\": \"P33\", \"make\": lambda: P33()},\n",
    "\n",
    "            ],\n",
    "            \"metrics\": [\n",
    "                {\"name\": \"Entropy\", \"code\": \"M1\", \"make\": lambda: M1()},\n",
    "                {\"name\": \"NCSS lightweight\", \"code\": \"M2\", \"make\": lambda: M2()},\n",
    "                {\n",
    "                    \"name\": \"Indentation counter: Right total variance\",\n",
    "                    \"code\": \"M3_1\",\n",
    "                    \"make\": lambda: M3(right_var=True)\n",
    "                },\n",
    "                {\n",
    "                    \"name\": \"Indentation counter: Left total variance\",\n",
    "                    \"code\": \"M3_2\",\n",
    "                    \"make\": lambda: M3(left_var=True)\n",
    "                },\n",
    "                {\n",
    "                    \"name\": \"Indentation counter: Right max variance\",\n",
    "                    \"code\": \"M3_3\",\n",
    "                    \"make\": lambda: M3(max_right=True)\n",
    "                },\n",
    "                {\n",
    "                    \"name\": \"Indentation counter: Left max variance\",\n",
    "                    \"code\": \"M3_4\",\n",
    "                    \"make\": lambda: M3(max_left=True)\n",
    "                },\n",
    "                {\"name\": \"Cognitive Complexity\", \"code\": \"M4\", \"make\": lambda: M4()},\n",
    "                {\"name\": \"LCOM4\", \"code\": \"M5\", \"make\": lambda: M5()},\n",
    "                {\"name\": \"Max diameter of AST\", \"code\": \"M6\", \"make\": lambda: M6()}\n",
    "            ],\n",
    "            \"target\": {\n",
    "\n",
    "            },\n",
    "            \"patterns_exclude\": [\n",
    "                \"P27\",  # empty implementation\n",
    "                'P31',  # errors\n",
    "                'P32',  # errors\n",
    "            ],\n",
    "            \"metrics_exclude\": []\n",
    "        }"
   ]
  },
  {
   "cell_type": "code",
   "execution_count": 6,
   "metadata": {},
   "outputs": [
    {
     "name": "stdout",
     "output_type": "stream",
     "text": [
      "Number of features:  31\n"
     ]
    }
   ],
   "source": [
    "ONLY_PATTERNS = []\n",
    "PATTERNS_CODE = []\n",
    "config = get_patterns_config()\n",
    "for x in get_patterns_config()['patterns']:\n",
    "    if x['code'] not in get_patterns_config()['patterns_exclude']:\n",
    "        ONLY_PATTERNS.append(x['name'])\n",
    "        PATTERNS_CODE.append(x['code'])\n",
    "FEATURES_NUMBER = len(ONLY_PATTERNS)\n",
    "print(\"Number of features: \", FEATURES_NUMBER)"
   ]
  },
  {
   "cell_type": "code",
   "execution_count": 7,
   "metadata": {},
   "outputs": [
    {
     "data": {
      "text/plain": [
       "{'P1': 'Asserts',\n",
       " 'P2': 'Setters',\n",
       " 'P3': 'Empty Rethrow',\n",
       " 'P4': 'Prohibited class name',\n",
       " 'P5': 'Force Type Casting',\n",
       " 'P6': 'Count If Return',\n",
       " 'P7': 'Implements Multi',\n",
       " 'P8': 'Instance of',\n",
       " 'P9': 'Many primary constructors',\n",
       " 'P10': 'Method chain',\n",
       " 'P11': 'Multiple try',\n",
       " 'P12': 'Non final attribute',\n",
       " 'P13': 'Null check',\n",
       " 'P14': 'Partial synchronized',\n",
       " 'P15': 'Redundant catch',\n",
       " 'P16': 'Return null',\n",
       " 'P17': 'String concat',\n",
       " 'P18': 'Super Method',\n",
       " 'P19': 'This in constructor',\n",
       " 'P20_5': 'Var declaration distance for 5 lines',\n",
       " 'P20_7': 'Var declaration distance for 7 lines',\n",
       " 'P20_11': 'Var declaration distance for 11 lines',\n",
       " 'P21': 'Var in the middle',\n",
       " 'P22': 'Array as function argument',\n",
       " 'P23': 'Joined validation',\n",
       " 'P24': 'Non final class',\n",
       " 'P25': 'Private static method',\n",
       " 'P26': 'Public static method',\n",
       " 'P28': 'Null Assignment',\n",
       " 'P29': 'Multiple While',\n",
       " 'P30': 'Protected Method',\n",
       " 'M1': 'Entropy',\n",
       " 'M2': 'NCSS lightweight',\n",
       " 'M3_1': 'Indentation counter: Right total variance',\n",
       " 'M3_2': 'Indentation counter: Left total variance',\n",
       " 'M3_3': 'Indentation counter: Right max variance',\n",
       " 'M3_4': 'Indentation counter: Left max variance',\n",
       " 'M4': 'Cognitive Complexity',\n",
       " 'M5': 'LCOM4',\n",
       " 'M6': 'Max diameter of AST'}"
      ]
     },
     "execution_count": 7,
     "metadata": {},
     "output_type": "execute_result"
    }
   ],
   "source": [
    "pt = {x['code']: x['name'] for x in config['patterns']}\n",
    "mt = {x['code']: x['name'] for x in config['metrics']}\n",
    "# pt, mt\n",
    "replace_dict = dict(pt, **mt)\n",
    "replace_dict"
   ]
  },
  {
   "cell_type": "code",
   "execution_count": 8,
   "metadata": {},
   "outputs": [],
   "source": [
    "df = df.rename(columns=replace_dict)"
   ]
  },
  {
   "cell_type": "code",
   "execution_count": 9,
   "metadata": {
    "colab": {},
    "colab_type": "code",
    "id": "ymr7_3twTVEd"
   },
   "outputs": [],
   "source": [
    "df = df.dropna().drop_duplicates(subset=df.columns.difference(['filename']))\n",
    "df = df[(df.ncss > 20) & (df.ncss < 100) & (df.npath_method_avg < 100000.00)].copy().reset_index()\n",
    "                       \n",
    "df = df[~df[\"filename\"].str.lower().str.contains(\"test\")]\n",
    "filename_with_index = df['filename']\n",
    "df.drop('filename', axis=1, inplace=True)\n",
    "df.drop('index', axis=1, inplace=True)\n",
    "columns_patterns =  ONLY_PATTERNS"
   ]
  },
  {
   "cell_type": "code",
   "execution_count": 10,
   "metadata": {},
   "outputs": [
    {
     "data": {
      "text/plain": [
       "(41053, 85)"
      ]
     },
     "execution_count": 10,
     "metadata": {},
     "output_type": "execute_result"
    }
   ],
   "source": [
    "df.shape"
   ]
  },
  {
   "cell_type": "code",
   "execution_count": 11,
   "metadata": {},
   "outputs": [],
   "source": [
    "class TwoFoldRankingModel(BaseEstimator):\n",
    "\n",
    "    def __init__(self):\n",
    "        self.do_rename_columns = False\n",
    "        self.model = None\n",
    "        self.features_conf = None\n",
    "\n",
    "    def fit(self, X, y, display=False):\n",
    "        \"\"\"\n",
    "        Args:\n",
    "            X: np.array with shape (number of snippets, number of patterns) or\n",
    "                (number of patterns, ).\n",
    "            y: np.array with shape (number of snippets,), array of snippets'\n",
    "                complexity metric values\n",
    "            display: bool, to output info about training or not\n",
    "        \"\"\"\n",
    "        model = CatBoostRegressor()\n",
    "\n",
    "        grid = {'learning_rate': [0.03, 0.1],\n",
    "                'depth': [4, 6, 10],\n",
    "                'l2_leaf_reg': [1, 3, 5, 7, 9]}\n",
    "\n",
    "        #model.grid_search(\n",
    "        #    grid,\n",
    "        #    X=X,\n",
    "        #    y=y,\n",
    "        #    verbose=display,\n",
    "        #)\n",
    "\n",
    "        self.model = model\n",
    "        self.model.fit(X, y.ravel(), logging_level='Silent')\n",
    "\n",
    "    def __get_pairs(self, item, th: float):\n",
    "        def sigmoid(x):\n",
    "            return 1 / (1 + np.exp(-x))\n",
    "\n",
    "        pattern_importances = item * self.model.feature_importances_\n",
    "        # mask discards not significant patterns\n",
    "        th_mask = (sigmoid(pattern_importances) <= th) + 0\n",
    "        pattern_importances = pattern_importances * th_mask\n",
    "        order = np.arange(self.model.feature_importances_.size)\n",
    "        return (pattern_importances, order)\n",
    "\n",
    "    def __vstack_arrays(self, res):\n",
    "        return np.vstack(res).T\n",
    "\n",
    "    def predict(self, X, return_acts=False, quantity_func='log', th=1.0):\n",
    "        \"\"\"\n",
    "        Args:\n",
    "            X: np.array with shape (number of snippets, number of patterns) or\n",
    "                (number of patterns, ).\n",
    "            quantity_func: str, type of function that will be applied to\n",
    "                number of occurrences.\n",
    "            th (float): Sensitivity of algorithm to recommend.\n",
    "                0 - ignore all recomendations\n",
    "                1 - use all recommendations\n",
    "        Returns:\n",
    "            ranked: np.array with shape (number of snippets, number of patterns)\n",
    "                of sorted patterns in non-increasing order for each snippet of\n",
    "                code.\n",
    "        \"\"\"\n",
    "\n",
    "        if X.ndim == 1:\n",
    "            X = X.copy()\n",
    "            X = np.expand_dims(X, axis=0)\n",
    "\n",
    "        ranked = []\n",
    "        quantity_funcs = {\n",
    "            'log': lambda x: np.log1p(x) / np.log(10),\n",
    "            'exp': lambda x: np.exp(x + 1),\n",
    "            'linear': lambda x: x,\n",
    "        }\n",
    "\n",
    "        for snippet in X:\n",
    "            try:\n",
    "                item = quantity_funcs[quantity_func](snippet)\n",
    "                pairs = self.__vstack_arrays(self.__get_pairs(item, th))\n",
    "                pairs = pairs[pairs[:, 0].argsort()]\n",
    "                ranked.append(pairs[:, 1].T.tolist()[::-1])\n",
    "            except Exception:\n",
    "                raise Exception(\"Unknown func\")\n",
    "\n",
    "        if not return_acts:\n",
    "            return (np.array(ranked), pairs[:, 0].T.tolist()[::-1])\n",
    "        return np.array(ranked), pairs[:, 0].T.tolist()[::-1], np.zeros(X.shape[0]) - 1\n",
    "\n",
    "    def get_array(self, X, mask, i, incr):\n",
    "        \"\"\"\n",
    "        Args:\n",
    "            X: np.array with shape (number of snippets, number of patterns).\n",
    "            mask: np.array with shape (number of snippets, number of patterns).\n",
    "            i: int, 0 <= i < number of patterns.\n",
    "            add: bool.\n",
    "        Returns:\n",
    "            X1: modified np.array with shape (number of snippets, number of patterns).\n",
    "        \"\"\"\n",
    "\n",
    "        X1 = X.copy()\n",
    "        X1[:, i][mask[:, i]] += incr * X1[:, i][mask[:, i]]\n",
    "\n",
    "        return X1\n",
    "\n",
    "    def get_minimum(self, c1, c2, c3):\n",
    "        \"\"\"\n",
    "        Args:\n",
    "            c1, c2, c3: np.array with shape (number of snippets, ).\n",
    "        Returns:\n",
    "            c: np.array with shape (number of snippets, ) -\n",
    "            elemental minimum of 3 arrays.\n",
    "            number: np.array with shape (number of snippets, ) of\n",
    "            arrays' numbers with minimum elements.            .\n",
    "        \"\"\"\n",
    "\n",
    "        c = np.vstack((c1, c2, c3))\n",
    "\n",
    "        return np.min(c, 0), np.argmin(c, 0)\n",
    "\n",
    "    def informative(self, X, return_acts=False):\n",
    "        \"\"\"\n",
    "        Args:\n",
    "            X: np.array with shape (number of snippets, number of patterns) or\n",
    "                (number of patterns, ).\n",
    "        Returns:\n",
    "            ranked: np.array with shape (number of snippets, number of patterns)\n",
    "                of sorted patterns in non-increasing order for each snippet of\n",
    "                code.\n",
    "            acts: np.array with shape (number of snippets, ) of\n",
    "            numbers of necessary actions for complexity's decrement.\n",
    "            0 - do not modify the pattern, 1 - decrease by 1, 2 - increase by 1.\n",
    "        \"\"\"\n",
    "\n",
    "        if X.ndim == 1:\n",
    "            X = X.copy()\n",
    "            X = np.expand_dims(X, axis=0)\n",
    "\n",
    "        k = X.shape[1]\n",
    "        complexity = self.model.predict(X)\n",
    "        mask = X > 0\n",
    "        importances = np.zeros(X.shape)\n",
    "        actions = np.zeros(X.shape)\n",
    "        for i in range(k):\n",
    "            complexity_minus = self.model.predict(self.get_array(X, mask, i, -1))\n",
    "            complexity_plus = self.model.predict(self.get_array(X, mask, i, 1))\n",
    "            c, number = self.get_minimum(complexity, complexity_minus, complexity_plus)\n",
    "            importances[:, i] = complexity - c\n",
    "            actions[:, i] = number\n",
    "\n",
    "        ranked = np.argsort(-1 * importances, 1)\n",
    "        if not return_acts:\n",
    "            return ranked, importances\n",
    "        acts = actions[np.argsort(ranked, 1) == 0]\n",
    "        return ranked, importances, acts\n"
   ]
  },
  {
   "cell_type": "markdown",
   "metadata": {},
   "source": [
    "## target - Cognitive Complexity"
   ]
  },
  {
   "cell_type": "code",
   "execution_count": 12,
   "metadata": {},
   "outputs": [],
   "source": [
    "ONLY_PATTERNS = ['Asserts',\n",
    " 'Setters',\n",
    " 'Empty Rethrow',\n",
    " 'Prohibited class name',\n",
    " 'Force Type Casting',\n",
    " 'Count If Return',\n",
    " 'Implements Multi',\n",
    " 'Instance of',\n",
    " 'Many primary constructors',\n",
    " 'Method chain',\n",
    " 'Multiple try',\n",
    " 'Non final attribute',\n",
    " 'Null check',\n",
    " 'Partial synchronized',\n",
    " 'Redundant catch',\n",
    " 'Return null',\n",
    " 'String concat',\n",
    " 'Super Method',\n",
    " 'This in constructor',\n",
    " 'Var declaration distance for 5 lines',\n",
    " 'Var declaration distance for 7 lines',\n",
    " 'Var declaration distance for 11 lines',\n",
    " 'Var in the middle',\n",
    " 'Array as function argument',\n",
    " 'Joined validation',\n",
    " 'Non final class',\n",
    " 'Private static method',\n",
    " 'Public static method',\n",
    " 'Null Assignment',\n",
    " 'Multiple While',\n",
    " 'Protected Method']\n",
    "FEATURES_NUMBER = len(ONLY_PATTERNS)"
   ]
  },
  {
   "cell_type": "code",
   "execution_count": 13,
   "metadata": {},
   "outputs": [],
   "source": [
    "X = pd.DataFrame(df[ONLY_PATTERNS].values / df['ncss'].values.reshape((-1, 1)))\n",
    "y = df[['Cognitive Complexity']].values[:, 0] / df['ncss'].values.reshape(-1)\n",
    "X_train, X_test, y_train, y_test = train_test_split(X.values, y, test_size=0.3, random_state=42)"
   ]
  },
  {
   "cell_type": "markdown",
   "metadata": {},
   "source": [
    "### Bayessian regression"
   ]
  },
  {
   "cell_type": "code",
   "execution_count": 23,
   "metadata": {},
   "outputs": [],
   "source": [
    "from sklearn.linear_model import BayesianRidge, ARDRegression"
   ]
  },
  {
   "cell_type": "code",
   "execution_count": 16,
   "metadata": {},
   "outputs": [],
   "source": [
    "b_model = BayesianRidge()"
   ]
  },
  {
   "cell_type": "code",
   "execution_count": 17,
   "metadata": {},
   "outputs": [
    {
     "data": {
      "text/plain": [
       "BayesianRidge()"
      ]
     },
     "execution_count": 17,
     "metadata": {},
     "output_type": "execute_result"
    }
   ],
   "source": [
    "b_model.fit(X_train, y_train)"
   ]
  },
  {
   "cell_type": "code",
   "execution_count": 18,
   "metadata": {},
   "outputs": [
    {
     "name": "stdout",
     "output_type": "stream",
     "text": [
      "MSE:  0.022727317928244322\n",
      "MAE:  0.10735104217657261\n",
      "R2:   0.34821436828711516\n",
      "VAR:   0.034869314115619894\n"
     ]
    }
   ],
   "source": [
    "print_scores(y_test, b_model.predict(X_test))"
   ]
  },
  {
   "cell_type": "code",
   "execution_count": 22,
   "metadata": {},
   "outputs": [
    {
     "data": {
      "text/plain": [
       "[<matplotlib.lines.Line2D at 0x18689ae8308>]"
      ]
     },
     "execution_count": 22,
     "metadata": {},
     "output_type": "execute_result"
    },
    {
     "data": {
      "image/png": "[encoded data removed]",
      "text/plain": [
       "<Figure size 432x288 with 1 Axes>"
      ]
     },
     "metadata": {
      "needs_background": "light"
     },
     "output_type": "display_data"
    }
   ],
   "source": [
    "plt.plot(np.arange(len(ONLY_PATTERNS)), np.abs(b_model.coef_))"
   ]
  },
  {
   "cell_type": "code",
   "execution_count": 24,
   "metadata": {},
   "outputs": [],
   "source": [
    "ard_model = ARDRegression()"
   ]
  },
  {
   "cell_type": "code",
   "execution_count": 25,
   "metadata": {},
   "outputs": [
    {
     "name": "stdout",
     "output_type": "stream",
     "text": [
      "Wall time: 284 ms\n"
     ]
    },
    {
     "data": {
      "text/plain": [
       "ARDRegression()"
      ]
     },
     "execution_count": 25,
     "metadata": {},
     "output_type": "execute_result"
    }
   ],
   "source": [
    "%time ard_model.fit(X_train, y_train)"
   ]
  },
  {
   "cell_type": "code",
   "execution_count": 27,
   "metadata": {},
   "outputs": [
    {
     "name": "stdout",
     "output_type": "stream",
     "text": [
      "MSE:  0.02271886820560653\n",
      "MAE:  0.10734513452773052\n",
      "R2:   0.34845669374868793\n",
      "VAR:   0.034869314115619894\n"
     ]
    }
   ],
   "source": [
    "print_scores(y_test, ard_model.predict(X_test))"
   ]
  },
  {
   "cell_type": "code",
   "execution_count": 57,
   "metadata": {},
   "outputs": [
    {
     "data": {
      "image/png": "[encoded data removed]",
      "text/plain": [
       "<Figure size 432x288 with 1 Axes>"
      ]
     },
     "metadata": {
      "needs_background": "light"
     },
     "output_type": "display_data"
    }
   ],
   "source": [
    "plt.plot(np.arange(len(ONLY_PATTERNS)), np.abs(ard_model.coef_), label = 'ARDRegression')\n",
    "plt.plot(np.arange(len(ONLY_PATTERNS)), np.abs(b_model.coef_), label = 'BayesianRidge')\n",
    "plt.legend()\n",
    "plt.xlabel('number of the pattern')\n",
    "plt.ylabel('abs. value of the weight of the pattern')\n",
    "plt.show()"
   ]
  },
  {
   "cell_type": "markdown",
   "metadata": {},
   "source": [
    "There is a dimensional reduction task. Bayessian regression can zero some features, leave only most importance features. We used ARDRegression and BayesianRidge, but these models didn't help to significantly reduce the dimension."
   ]
  },
  {
   "cell_type": "markdown",
   "metadata": {},
   "source": [
    "### Boosting"
   ]
  },
  {
   "cell_type": "markdown",
   "metadata": {},
   "source": [
    "Additional models to predict complexity"
   ]
  },
  {
   "cell_type": "markdown",
   "metadata": {},
   "source": [
    "#### Xgboost"
   ]
  },
  {
   "cell_type": "code",
   "execution_count": 31,
   "metadata": {},
   "outputs": [],
   "source": [
    "import xgboost as xgb"
   ]
  },
  {
   "cell_type": "code",
   "execution_count": 34,
   "metadata": {},
   "outputs": [
    {
     "name": "stdout",
     "output_type": "stream",
     "text": [
      "MSE:  0.018677959990220414\n",
      "MAE:  0.09330615374349953\n",
      "R2:   0.46434392347701714\n",
      "VAR:   0.034869314115619894\n"
     ]
    }
   ],
   "source": [
    "model = xgb.XGBRegressor()\n",
    "model.fit(X_train, y_train)\n",
    "print_scores(y_test, model.predict(X_test))"
   ]
  },
  {
   "cell_type": "markdown",
   "metadata": {},
   "source": [
    "#### Lightgbm"
   ]
  },
  {
   "cell_type": "code",
   "execution_count": 37,
   "metadata": {},
   "outputs": [],
   "source": [
    "import lightgbm as lgbm"
   ]
  },
  {
   "cell_type": "code",
   "execution_count": 38,
   "metadata": {},
   "outputs": [
    {
     "name": "stdout",
     "output_type": "stream",
     "text": [
      "MSE:  0.018662600889046227\n",
      "MAE:  0.09336598674696783\n",
      "R2:   0.4647843996252792\n",
      "VAR:   0.034869314115619894\n"
     ]
    }
   ],
   "source": [
    "model = lgbm.sklearn.LGBMRegressor()\n",
    "model.fit(X_train, y_train)\n",
    "print_scores(y_test, model.predict(X_test))"
   ]
  },
  {
   "cell_type": "markdown",
   "metadata": {},
   "source": [
    "#### RandomForestRegressor"
   ]
  },
  {
   "cell_type": "code",
   "execution_count": 39,
   "metadata": {},
   "outputs": [],
   "source": [
    "from sklearn.ensemble import RandomForestRegressor"
   ]
  },
  {
   "cell_type": "code",
   "execution_count": 40,
   "metadata": {},
   "outputs": [
    {
     "name": "stdout",
     "output_type": "stream",
     "text": [
      "MSE:  0.018690134685006132\n",
      "MAE:  0.08909462238958779\n",
      "R2:   0.4639947713616257\n",
      "VAR:   0.034869314115619894\n"
     ]
    }
   ],
   "source": [
    "model = RandomForestRegressor()\n",
    "model.fit(X_train, y_train)\n",
    "print_scores(y_test, model.predict(X_test))"
   ]
  },
  {
   "cell_type": "markdown",
   "metadata": {},
   "source": [
    "#### GradientBoostingRegressor"
   ]
  },
  {
   "cell_type": "code",
   "execution_count": 44,
   "metadata": {},
   "outputs": [],
   "source": [
    "from sklearn.ensemble import GradientBoostingRegressor"
   ]
  },
  {
   "cell_type": "code",
   "execution_count": 45,
   "metadata": {},
   "outputs": [
    {
     "name": "stdout",
     "output_type": "stream",
     "text": [
      "MSE:  0.019201408572821172\n",
      "MAE:  0.09737869917514765\n",
      "R2:   0.44933219766947474\n",
      "VAR:   0.034869314115619894\n"
     ]
    }
   ],
   "source": [
    "model = GradientBoostingRegressor()\n",
    "model.fit(X_train, y_train)\n",
    "print_scores(y_test, model.predict(X_test))"
   ]
  },
  {
   "cell_type": "markdown",
   "metadata": {},
   "source": [
    "-----------------------------------------"
   ]
  }
 ],
 "metadata": {
  "accelerator": "GPU",
  "colab": {
   "collapsed_sections": [],
   "include_colab_link": true,
   "machine_shape": "hm",
   "name": "ranking_methods_comparison",
   "provenance": []
  },
  "kernelspec": {
   "display_name": "Python 3",
   "language": "python",
   "name": "python3"
  },
  "language_info": {
   "codemirror_mode": {
    "name": "ipython",
    "version": 3
   },
   "file_extension": ".py",
   "mimetype": "text/x-python",
   "name": "python",
   "nbconvert_exporter": "python",
   "pygments_lexer": "ipython3",
   "version": "3.7.7"
  }
 },
 "nbformat": 4,
 "nbformat_minor": 1
}
