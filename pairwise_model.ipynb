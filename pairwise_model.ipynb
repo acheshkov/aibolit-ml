{
  "nbformat": 4,
  "nbformat_minor": 0,
  "metadata": {
    "colab": {
      "name": "Report_Pairwise experiment.ipynb",
      "provenance": [],
      "collapsed_sections": [
        "RfYswsf5HpvH"
      ],
      "toc_visible": true,
      "include_colab_link": true
    },
    "kernelspec": {
      "name": "python3",
      "display_name": "Python 3"
    },
    "accelerator": "GPU"
  },
  "cells": [
    {
      "cell_type": "markdown",
      "metadata": {
        "id": "view-in-github",
        "colab_type": "text"
      },
      "source": [
        "<a href=\"https://colab.research.google.com/github/acheshkov/aibolit-ml/blob/ranking_patterns/pairwise_model.ipynb\" target=\"_parent\"><img src=\"https://colab.research.google.com/assets/colab-badge.svg\" alt=\"Open In Colab\"/></a>"
      ]
    },
    {
      "cell_type": "markdown",
      "metadata": {
        "id": "vMsqEwzM6nBz",
        "colab_type": "text"
      },
      "source": [
        "# Imports"
      ]
    },
    {
      "cell_type": "code",
      "metadata": {
        "id": "4uGA3kebVqJj",
        "colab_type": "code",
        "colab": {}
      },
      "source": [
        "import torch\n",
        "from torch.autograd import Variable\n",
        "import torch.nn.functional as F\n",
        "import torch.utils.data as Data\n",
        "import torch.optim as optim\n",
        "import torch\n",
        "import torch.nn as nn\n",
        "from tqdm import tqdm\n",
        "\n",
        "import matplotlib.pyplot as plt\n",
        "%matplotlib inline\n",
        "\n",
        "import numpy as np\n",
        "import pandas as pd\n",
        "from sklearn.linear_model import LinearRegression, Lasso, Ridge, HuberRegressor\n",
        "from sklearn.model_selection import GridSearchCV\n",
        "from sklearn.preprocessing import StandardScaler\n",
        "import numpy as np\n",
        "from sklearn.ensemble import RandomForestRegressor\n",
        "from sklearn.metrics import make_scorer, classification_report, confusion_matrix \n",
        "from sklearn.model_selection import train_test_split\n",
        "from sklearn.preprocessing import PolynomialFeatures\n",
        "from sklearn import datasets, linear_model\n",
        "\n",
        "from scipy import stats\n",
        "from sklearn.pipeline import Pipeline\n",
        "from sklearn.base import clone\n",
        "import seaborn as sns\n",
        "\n",
        "from itertools import permutations, combinations\n",
        "import scipy.special\n",
        "import random\n",
        "import math\n",
        "\n",
        "from sklearn.svm import SVC \n",
        "from yellowbrick.classifier import ClassificationReport\n",
        "from sklearn.linear_model import LogisticRegression\n",
        "!pip install yellowbrick"
      ],
      "execution_count": 0,
      "outputs": []
    },
    {
      "cell_type": "markdown",
      "metadata": {
        "id": "c1z_2D8DLmyf",
        "colab_type": "text"
      },
      "source": [
        "# Introduction\n",
        "---\n",
        "\n",
        "## Pairwise importance ranking\n",
        "\n",
        "Having snippet of code and its patterns we need sort them according to its importance with respect to target variable. In our case target variable associated with code quality. At first step we are going to train binary *classifier* to predict which of two code snippets has better quality. To do this we are going to train classifier on the subset of *combinations of pairs*. \n",
        "\n",
        "To figure out the pattern better to change we do *pairwise comparsion* on the set \n",
        "of modification of original vector of patterns. This set of modifications obtained by decrementing every patterns by one. Having pairwise comparison we apply *topological sort* to get linearly ordered list of modifications. Having this ordered list of modifications we get desired sorted list of patterns by importance. \n"
      ]
    },
    {
      "cell_type": "markdown",
      "metadata": {
        "id": "FiIhQK_wLamh",
        "colab_type": "text"
      },
      "source": [
        "# Prepate dataset"
      ]
    },
    {
      "cell_type": "code",
      "metadata": {
        "id": "cl3CCWUAXEfA",
        "colab_type": "code",
        "outputId": "494247b0-7521-4516-ec36-3618e2b44216",
        "colab": {
          "base_uri": "https://localhost:8080/",
          "height": 34
        }
      },
      "source": [
        "COLUMNS_FEATURES =  [\n",
        "  'var_middle_number', 'this_find_number',\n",
        "  'string_concat_number', 'instance_of_number',\n",
        "  'method_chain_number', 'var_decl_diff_number_11', \n",
        "  'var_decl_diff_number_7', 'var_decl_diff_number_5', \n",
        "  'super_method_call_number', 'force_type_cast_number',\n",
        "  'entropy', 'halstead volume', 'ncss_lightweight',\n",
        "  'left_spaces_var','right_spaces_var','max_left_diff_spaces',\n",
        "  'max_right_diff_spaces', 'asserts_number', 'setter_number',\n",
        "  'empty_rethrow_number', 'prohibited_class_names_number',\n",
        "  'return_in_if_number', 'impl_multi_number',\n",
        "  'many_prim_ctors_number','multiple_try_number',\n",
        "  'non_final_field_number','null_check_number',\n",
        "  'part_sync_number','red_catch_number',\n",
        "  'return_null_number'\n",
        "]\n",
        "\n",
        "ONLY_PATTERNS = ['var_middle_number', 'this_find_number','string_concat_number', 'instance_of_number',\n",
        "'method_chain_number', 'var_decl_diff_number_11', 'var_decl_diff_number_7', 'var_decl_diff_number_5', \n",
        "'super_method_call_number', 'force_type_cast_number','asserts_number', 'setter_number', 'empty_rethrow_number', \n",
        "'prohibited_class_names_number', 'return_in_if_number', 'impl_multi_number',\n",
        "'many_prim_ctors_number','multiple_try_number', 'non_final_field_number','null_check_number', \n",
        "'part_sync_number','red_catch_number', 'return_null_number']\n",
        "\n",
        "\n",
        "FEATURES_NUMBER = len(ONLY_PATTERNS)\n",
        "FEATURES_NUMBER"
      ],
      "execution_count": 2,
      "outputs": [
        {
          "output_type": "execute_result",
          "data": {
            "text/plain": [
              "23"
            ]
          },
          "metadata": {
            "tags": []
          },
          "execution_count": 2
        }
      ]
    },
    {
      "cell_type": "markdown",
      "metadata": {
        "id": "-ySaeMo_A4IJ",
        "colab_type": "text"
      },
      "source": [
        "When reading dataset, we've exlcuded some outliers: $npath\\_method\\_avg > 100000$ , Cyclomatic complexity (CC) > 50 and $CC < 4$"
      ]
    },
    {
      "cell_type": "code",
      "metadata": {
        "id": "mI-_WMc3A0ML",
        "colab_type": "code",
        "colab": {}
      },
      "source": [
        "scale_ncss=False\n",
        "scale=False\n",
        "# import and initialize dataset\n",
        "df = pd.read_csv('dataset8.csv')\n",
        "df = df.dropna().drop_duplicates(subset=df.columns.difference(['filename']))\n",
        "df = df[(df.ncss_lightweight > 20) & (df.ncss_lightweight < 100) & (df.npath_method_avg < 100000.00) & (df.cyclo < 50) & (df.cyclo > 4)].copy().reset_index()\n",
        "df.rename(columns = {'for_type_cast_number':'force_type_cast_number'}, inplace = True) \n",
        "df = df[~df[\"filename\"].str.lower().str.contains(\"test\")]\n",
        "df.drop('filename', axis=1, inplace=True)\n",
        "df.drop('index', axis=1, inplace=True)"
      ],
      "execution_count": 0,
      "outputs": []
    },
    {
      "cell_type": "markdown",
      "metadata": {
        "id": "x6II4cx3B1Np",
        "colab_type": "text"
      },
      "source": [
        "Target variable we are going to predict is $CC$. We've decided to choose only patterns as features, without metrics"
      ]
    },
    {
      "cell_type": "code",
      "metadata": {
        "id": "PAFXXSnlB0sQ",
        "colab_type": "code",
        "colab": {}
      },
      "source": [
        "Y = df[['cyclo']].copy().values\n",
        "if scale_ncss:\n",
        "    new = pd.DataFrame(df[ONLY_PATTERNS].values / df['ncss_lightweight'].values.reshape((-1, 1)))\n",
        "else:\n",
        "    new = df[ONLY_PATTERNS].copy()\n",
        "if scale:\n",
        "  X = pd.DataFrame(StandardScaler().fit_transform(new.values), columns=new.columns, index=new.index).values\n",
        "else:\n",
        "  X = new"
      ],
      "execution_count": 0,
      "outputs": []
    },
    {
      "cell_type": "code",
      "metadata": {
        "colab_type": "code",
        "outputId": "ec7daf49-3793-41cd-9d13-b464140b6225",
        "id": "fxIjuWv2SEa3",
        "colab": {
          "base_uri": "https://localhost:8080/",
          "height": 34
        }
      },
      "source": [
        "indices = X.index.values.tolist()\n",
        "perm = permutations(indices, 2)\n",
        "len(list(perm))"
      ],
      "execution_count": 0,
      "outputs": [
        {
          "output_type": "execute_result",
          "data": {
            "text/plain": [
              "152016570"
            ]
          },
          "metadata": {
            "tags": []
          },
          "execution_count": 5
        }
      ]
    },
    {
      "cell_type": "markdown",
      "metadata": {
        "id": "B9kvcm17GTWP",
        "colab_type": "text"
      },
      "source": [
        "The number of all possible pairs is huge, so we select randomly $k$ samples and find all 2-permutations of $k$ samples."
      ]
    },
    {
      "cell_type": "code",
      "metadata": {
        "id": "jb3KEzfLGHCR",
        "colab_type": "code",
        "colab": {}
      },
      "source": [
        "import csv\n",
        "\n",
        "def generate_full_permutations_dataset(d, desired_dataset_size, df, filename=\"out.csv\"):\n",
        "  def to_bool(s):\n",
        "    return 1 if s else 0\n",
        "\n",
        "  def calc_closest_dataset_size_using_permutation(dataset_size):\n",
        "    # 2-permuations of n =  n*(n-1)\n",
        "    return int(math.sqrt(dataset_size))\n",
        "\n",
        "  indices = []\n",
        "  real_patterns_number = calc_closest_dataset_size_using_permutation(desired_dataset_size)\n",
        "  random_indices = random.sample(d.index.tolist(), real_patterns_number)\n",
        "  perms = permutations(random_indices, 2)\n",
        "  lst = list(perms)\n",
        "  matrix = []\n",
        "  for _, val in tqdm(enumerate(lst), total=len(lst)):\n",
        "    x, y = val[0], val[1]\n",
        "    left_patterns = d.loc[x, :].values.tolist()\n",
        "    right_patterns = d.loc[y, :].values.tolist()\n",
        "    row = left_patterns + right_patterns\n",
        "    target_left = df.loc[x, :]['cyclo']\n",
        "    target_right = df.loc[y, :]['cyclo']\n",
        "    target_cyclo = to_bool(target_left < target_right)\n",
        "    matrix.append(row + [target_cyclo])\n",
        "    \n",
        "\n",
        "  with open(filename, \"w\", newline=\"\") as f:\n",
        "      writer = csv.writer(f)\n",
        "      writer.writerows(matrix)"
      ],
      "execution_count": 0,
      "outputs": []
    },
    {
      "cell_type": "code",
      "metadata": {
        "id": "fKOoC5r8HOJJ",
        "colab_type": "code",
        "outputId": "d2cedd9b-8025-4ed3-ad56-dc7122be804f",
        "colab": {
          "base_uri": "https://localhost:8080/",
          "height": 255
        }
      },
      "source": [
        "generate_full_permutations_dataset(X, 10000, df)\n",
        "dataset = pd.read_csv('out.csv', header=None)\n",
        "print(len(dataset))\n",
        "dataset.head()"
      ],
      "execution_count": 38,
      "outputs": [
        {
          "output_type": "stream",
          "text": [
            "100%|██████████| 9900/9900 [00:08<00:00, 1233.46it/s]\n"
          ],
          "name": "stderr"
        },
        {
          "output_type": "stream",
          "text": [
            "9900\n"
          ],
          "name": "stdout"
        },
        {
          "output_type": "execute_result",
          "data": {
            "text/html": [
              "<div>\n",
              "<style scoped>\n",
              "    .dataframe tbody tr th:only-of-type {\n",
              "        vertical-align: middle;\n",
              "    }\n",
              "\n",
              "    .dataframe tbody tr th {\n",
              "        vertical-align: top;\n",
              "    }\n",
              "\n",
              "    .dataframe thead th {\n",
              "        text-align: right;\n",
              "    }\n",
              "</style>\n",
              "<table border=\"1\" class=\"dataframe\">\n",
              "  <thead>\n",
              "    <tr style=\"text-align: right;\">\n",
              "      <th></th>\n",
              "      <th>0</th>\n",
              "      <th>1</th>\n",
              "      <th>2</th>\n",
              "      <th>3</th>\n",
              "      <th>4</th>\n",
              "      <th>5</th>\n",
              "      <th>6</th>\n",
              "      <th>7</th>\n",
              "      <th>8</th>\n",
              "      <th>9</th>\n",
              "      <th>10</th>\n",
              "      <th>11</th>\n",
              "      <th>12</th>\n",
              "      <th>13</th>\n",
              "      <th>14</th>\n",
              "      <th>15</th>\n",
              "      <th>16</th>\n",
              "      <th>17</th>\n",
              "      <th>18</th>\n",
              "      <th>19</th>\n",
              "      <th>20</th>\n",
              "      <th>21</th>\n",
              "      <th>22</th>\n",
              "      <th>23</th>\n",
              "      <th>24</th>\n",
              "      <th>25</th>\n",
              "      <th>26</th>\n",
              "      <th>27</th>\n",
              "      <th>28</th>\n",
              "      <th>29</th>\n",
              "      <th>30</th>\n",
              "      <th>31</th>\n",
              "      <th>32</th>\n",
              "      <th>33</th>\n",
              "      <th>34</th>\n",
              "      <th>35</th>\n",
              "      <th>36</th>\n",
              "      <th>37</th>\n",
              "      <th>38</th>\n",
              "      <th>39</th>\n",
              "      <th>40</th>\n",
              "      <th>41</th>\n",
              "      <th>42</th>\n",
              "      <th>43</th>\n",
              "      <th>44</th>\n",
              "      <th>45</th>\n",
              "      <th>46</th>\n",
              "    </tr>\n",
              "  </thead>\n",
              "  <tbody>\n",
              "    <tr>\n",
              "      <th>0</th>\n",
              "      <td>7</td>\n",
              "      <td>0</td>\n",
              "      <td>2</td>\n",
              "      <td>0</td>\n",
              "      <td>0</td>\n",
              "      <td>3</td>\n",
              "      <td>4</td>\n",
              "      <td>4</td>\n",
              "      <td>0</td>\n",
              "      <td>1</td>\n",
              "      <td>0</td>\n",
              "      <td>0</td>\n",
              "      <td>0</td>\n",
              "      <td>0</td>\n",
              "      <td>1</td>\n",
              "      <td>0</td>\n",
              "      <td>0</td>\n",
              "      <td>1</td>\n",
              "      <td>0</td>\n",
              "      <td>2</td>\n",
              "      <td>0</td>\n",
              "      <td>0</td>\n",
              "      <td>0</td>\n",
              "      <td>5</td>\n",
              "      <td>0</td>\n",
              "      <td>2</td>\n",
              "      <td>1</td>\n",
              "      <td>0</td>\n",
              "      <td>0</td>\n",
              "      <td>1</td>\n",
              "      <td>1</td>\n",
              "      <td>0</td>\n",
              "      <td>4</td>\n",
              "      <td>0</td>\n",
              "      <td>0</td>\n",
              "      <td>0</td>\n",
              "      <td>0</td>\n",
              "      <td>0</td>\n",
              "      <td>0</td>\n",
              "      <td>0</td>\n",
              "      <td>0</td>\n",
              "      <td>0</td>\n",
              "      <td>4</td>\n",
              "      <td>0</td>\n",
              "      <td>0</td>\n",
              "      <td>0</td>\n",
              "      <td>0</td>\n",
              "    </tr>\n",
              "    <tr>\n",
              "      <th>1</th>\n",
              "      <td>7</td>\n",
              "      <td>0</td>\n",
              "      <td>2</td>\n",
              "      <td>0</td>\n",
              "      <td>0</td>\n",
              "      <td>3</td>\n",
              "      <td>4</td>\n",
              "      <td>4</td>\n",
              "      <td>0</td>\n",
              "      <td>1</td>\n",
              "      <td>0</td>\n",
              "      <td>0</td>\n",
              "      <td>0</td>\n",
              "      <td>0</td>\n",
              "      <td>1</td>\n",
              "      <td>0</td>\n",
              "      <td>0</td>\n",
              "      <td>1</td>\n",
              "      <td>0</td>\n",
              "      <td>2</td>\n",
              "      <td>0</td>\n",
              "      <td>0</td>\n",
              "      <td>0</td>\n",
              "      <td>0</td>\n",
              "      <td>0</td>\n",
              "      <td>0</td>\n",
              "      <td>0</td>\n",
              "      <td>0</td>\n",
              "      <td>0</td>\n",
              "      <td>0</td>\n",
              "      <td>0</td>\n",
              "      <td>0</td>\n",
              "      <td>0</td>\n",
              "      <td>0</td>\n",
              "      <td>0</td>\n",
              "      <td>0</td>\n",
              "      <td>0</td>\n",
              "      <td>0</td>\n",
              "      <td>0</td>\n",
              "      <td>0</td>\n",
              "      <td>0</td>\n",
              "      <td>5</td>\n",
              "      <td>0</td>\n",
              "      <td>0</td>\n",
              "      <td>0</td>\n",
              "      <td>0</td>\n",
              "      <td>0</td>\n",
              "    </tr>\n",
              "    <tr>\n",
              "      <th>2</th>\n",
              "      <td>7</td>\n",
              "      <td>0</td>\n",
              "      <td>2</td>\n",
              "      <td>0</td>\n",
              "      <td>0</td>\n",
              "      <td>3</td>\n",
              "      <td>4</td>\n",
              "      <td>4</td>\n",
              "      <td>0</td>\n",
              "      <td>1</td>\n",
              "      <td>0</td>\n",
              "      <td>0</td>\n",
              "      <td>0</td>\n",
              "      <td>0</td>\n",
              "      <td>1</td>\n",
              "      <td>0</td>\n",
              "      <td>0</td>\n",
              "      <td>1</td>\n",
              "      <td>0</td>\n",
              "      <td>2</td>\n",
              "      <td>0</td>\n",
              "      <td>0</td>\n",
              "      <td>0</td>\n",
              "      <td>0</td>\n",
              "      <td>0</td>\n",
              "      <td>0</td>\n",
              "      <td>0</td>\n",
              "      <td>4</td>\n",
              "      <td>1</td>\n",
              "      <td>1</td>\n",
              "      <td>1</td>\n",
              "      <td>0</td>\n",
              "      <td>1</td>\n",
              "      <td>0</td>\n",
              "      <td>0</td>\n",
              "      <td>0</td>\n",
              "      <td>0</td>\n",
              "      <td>0</td>\n",
              "      <td>0</td>\n",
              "      <td>0</td>\n",
              "      <td>0</td>\n",
              "      <td>3</td>\n",
              "      <td>0</td>\n",
              "      <td>0</td>\n",
              "      <td>0</td>\n",
              "      <td>0</td>\n",
              "      <td>0</td>\n",
              "    </tr>\n",
              "    <tr>\n",
              "      <th>3</th>\n",
              "      <td>7</td>\n",
              "      <td>0</td>\n",
              "      <td>2</td>\n",
              "      <td>0</td>\n",
              "      <td>0</td>\n",
              "      <td>3</td>\n",
              "      <td>4</td>\n",
              "      <td>4</td>\n",
              "      <td>0</td>\n",
              "      <td>1</td>\n",
              "      <td>0</td>\n",
              "      <td>0</td>\n",
              "      <td>0</td>\n",
              "      <td>0</td>\n",
              "      <td>1</td>\n",
              "      <td>0</td>\n",
              "      <td>0</td>\n",
              "      <td>1</td>\n",
              "      <td>0</td>\n",
              "      <td>2</td>\n",
              "      <td>0</td>\n",
              "      <td>0</td>\n",
              "      <td>0</td>\n",
              "      <td>0</td>\n",
              "      <td>0</td>\n",
              "      <td>1</td>\n",
              "      <td>0</td>\n",
              "      <td>0</td>\n",
              "      <td>0</td>\n",
              "      <td>0</td>\n",
              "      <td>0</td>\n",
              "      <td>0</td>\n",
              "      <td>0</td>\n",
              "      <td>0</td>\n",
              "      <td>0</td>\n",
              "      <td>0</td>\n",
              "      <td>0</td>\n",
              "      <td>0</td>\n",
              "      <td>0</td>\n",
              "      <td>0</td>\n",
              "      <td>0</td>\n",
              "      <td>0</td>\n",
              "      <td>0</td>\n",
              "      <td>0</td>\n",
              "      <td>0</td>\n",
              "      <td>0</td>\n",
              "      <td>0</td>\n",
              "    </tr>\n",
              "    <tr>\n",
              "      <th>4</th>\n",
              "      <td>7</td>\n",
              "      <td>0</td>\n",
              "      <td>2</td>\n",
              "      <td>0</td>\n",
              "      <td>0</td>\n",
              "      <td>3</td>\n",
              "      <td>4</td>\n",
              "      <td>4</td>\n",
              "      <td>0</td>\n",
              "      <td>1</td>\n",
              "      <td>0</td>\n",
              "      <td>0</td>\n",
              "      <td>0</td>\n",
              "      <td>0</td>\n",
              "      <td>1</td>\n",
              "      <td>0</td>\n",
              "      <td>0</td>\n",
              "      <td>1</td>\n",
              "      <td>0</td>\n",
              "      <td>2</td>\n",
              "      <td>0</td>\n",
              "      <td>0</td>\n",
              "      <td>0</td>\n",
              "      <td>6</td>\n",
              "      <td>0</td>\n",
              "      <td>0</td>\n",
              "      <td>0</td>\n",
              "      <td>2</td>\n",
              "      <td>0</td>\n",
              "      <td>1</td>\n",
              "      <td>1</td>\n",
              "      <td>0</td>\n",
              "      <td>0</td>\n",
              "      <td>0</td>\n",
              "      <td>0</td>\n",
              "      <td>0</td>\n",
              "      <td>1</td>\n",
              "      <td>0</td>\n",
              "      <td>0</td>\n",
              "      <td>0</td>\n",
              "      <td>0</td>\n",
              "      <td>0</td>\n",
              "      <td>0</td>\n",
              "      <td>0</td>\n",
              "      <td>0</td>\n",
              "      <td>0</td>\n",
              "      <td>0</td>\n",
              "    </tr>\n",
              "  </tbody>\n",
              "</table>\n",
              "</div>"
            ],
            "text/plain": [
              "   0   1   2   3   4   5   6   7   8   ...  38  39  40  41  42  43  44  45  46\n",
              "0   7   0   2   0   0   3   4   4   0  ...   0   0   0   0   4   0   0   0   0\n",
              "1   7   0   2   0   0   3   4   4   0  ...   0   0   0   5   0   0   0   0   0\n",
              "2   7   0   2   0   0   3   4   4   0  ...   0   0   0   3   0   0   0   0   0\n",
              "3   7   0   2   0   0   3   4   4   0  ...   0   0   0   0   0   0   0   0   0\n",
              "4   7   0   2   0   0   3   4   4   0  ...   0   0   0   0   0   0   0   0   0\n",
              "\n",
              "[5 rows x 47 columns]"
            ]
          },
          "metadata": {
            "tags": []
          },
          "execution_count": 38
        }
      ]
    },
    {
      "cell_type": "markdown",
      "metadata": {
        "id": "m1yNSOsSXHwl",
        "colab_type": "text"
      },
      "source": [
        "So ,we have the following dataset:\n",
        "*  Each sample consists of concatenation of 2 vectors\n",
        "*  Each vector represents a number of values for patterns found for a unique Java file\n",
        "*  Target value is 1 if $CC$ of the first pattern is less than $CC$ of the second pattern, otherwise it is 0\n",
        "\n",
        "E.g., suppose we have 2 Java files: 'Left.java' and 'Right.java'.\n",
        "Each vector the mentioned files:\n",
        "\n",
        "$\n",
        "\\begin{array}{|l|l|l|l|l|l|l|l|l|l|l|l|l|l|l|l|l|l|l|l|l|l|l|l|l|l|l|l|l|l|l|l|l|l|l|l|l|l|l|l|l|l|l|l|l|l|l|l|l|}\n",
        "        \\hline\n",
        "Filename&&&&&&&&&&&&&&&&&&&&&&&&CC\\\\ \\hline\n",
        "Right.java&0&0&0&0&0&0&0&0&0&0&0&0&0&0&0&0&0&0&6&0&0&0&0& 0.56 \\\\ \\hline\n",
        "Left.java&9&0&4&0&0&0&3&3&0&3&0&0&0&1&0&0&0&0&0&6&0&0&0& 0.35 \\\\ \\hline\n",
        "\\hline\n",
        "\\end{array}\n",
        "$\n",
        "\n",
        "Each number in a vector is a number of certain pattern, found in a file.\n",
        "If we compare $CC$ of `Left.java` <  $CC$ of `Right.java`, then target is 1 (it is more `preferable`, since smaller $CC$ value means better code). \n",
        "So, the total sample will be the following:"
      ]
    },
    {
      "cell_type": "code",
      "metadata": {
        "id": "l90yjSOsb1ob",
        "colab_type": "code",
        "outputId": "4a6b9d21-b84f-417d-9944-8e56dd7e950f",
        "colab": {
          "base_uri": "https://localhost:8080/",
          "height": 34
        }
      },
      "source": [
        "print(' '.join(str(x) for x in dataset.loc[0, :].tolist()))"
      ],
      "execution_count": 11,
      "outputs": [
        {
          "output_type": "stream",
          "text": [
            "1 0 0 0 3 0 0 0 0 1 0 3 0 0 0 0 0 0 3 2 0 0 0 1 0 0 0 2 0 0 0 3 1 0 1 0 0 0 0 0 0 1 2 0 0 0 0\n"
          ],
          "name": "stdout"
        }
      ]
    },
    {
      "cell_type": "markdown",
      "metadata": {
        "id": "RfYswsf5HpvH",
        "colab_type": "text"
      },
      "source": [
        "# Random Forest classifier:"
      ]
    },
    {
      "cell_type": "markdown",
      "metadata": {
        "id": "rkM3Uqq7H33J",
        "colab_type": "text"
      },
      "source": [
        "We split our dataset with ratio 70%, 30% `train` and `test` sets. To find best hyper parameters and choose the best model, we use `GridSearchCV` of the sklearn library, in order to automate this process. A cross validation process is performed in order to determine the hyper parameter value set which provides the best accuracy levels."
      ]
    },
    {
      "cell_type": "code",
      "metadata": {
        "id": "W_OfgmnwH2ip",
        "colab_type": "code",
        "colab": {}
      },
      "source": [
        "from sklearn.ensemble import RandomForestClassifier\n",
        "from sklearn.metrics import accuracy_score, auc, f1_score, hamming_loss\n",
        "\n",
        "dataset = dataset.drop_duplicates(keep=False)\n",
        "y = dataset.iloc[:,-1]\n",
        "X = dataset.iloc[:,:-1]\n",
        "X_train, X_test, y_train, y_test = train_test_split(X.values, y.values, test_size=0.3)\n",
        "\n",
        "def train_random_forest(X_train, y_train, X_test):\n",
        "  rfc=RandomForestClassifier(random_state=42)\n",
        "  param_grid = { \n",
        "      'n_estimators': [200, 500],\n",
        "      'max_depth' : [4,5,6,7,8],\n",
        "      'criterion' :['gini', 'entropy']\n",
        "  }\n",
        "\n",
        "  CV_rfc = GridSearchCV(estimator=rfc, param_grid=param_grid, cv=5)\n",
        "  CV_rfc.fit(X_train, y_train)\n",
        "  print(CV_rfc.best_params_)\n",
        "  print('Training best model')\n",
        "  rfc1=RandomForestClassifier(**CV_rfc.best_params_)\n",
        "  rfc1.fit(X_train, y_train)\n",
        "  pred=rfc1.predict(X_test)\n",
        "  return  pred, rfc1"
      ],
      "execution_count": 0,
      "outputs": []
    },
    {
      "cell_type": "code",
      "metadata": {
        "id": "KvNDhfWzIB4v",
        "colab_type": "code",
        "outputId": "8f1418e9-53f7-462a-f00a-b09673316acf",
        "colab": {
          "base_uri": "https://localhost:8080/",
          "height": 51
        }
      },
      "source": [
        "pred, rfc1 = train_random_forest(X_train, y_train, X_test)\n"
      ],
      "execution_count": 40,
      "outputs": [
        {
          "output_type": "stream",
          "text": [
            "{'criterion': 'gini', 'max_depth': 8, 'n_estimators': 200}\n",
            "Training best model\n"
          ],
          "name": "stdout"
        }
      ]
    },
    {
      "cell_type": "code",
      "metadata": {
        "id": "caOfRLzsIPLV",
        "colab_type": "code",
        "outputId": "14ecfdaf-683d-4a22-ef6d-2c730d5c79fa",
        "colab": {
          "base_uri": "https://localhost:8080/",
          "height": 172
        }
      },
      "source": [
        "predictions = rfc1.predict(X_test)\n",
        "report = classification_report(y_test, predictions)\n",
        "print(report)"
      ],
      "execution_count": 14,
      "outputs": [
        {
          "output_type": "stream",
          "text": [
            "              precision    recall  f1-score   support\n",
            "\n",
            "           0       0.79      0.89      0.84       854\n",
            "           1       0.87      0.77      0.82       854\n",
            "\n",
            "    accuracy                           0.83      1708\n",
            "   macro avg       0.83      0.83      0.83      1708\n",
            "weighted avg       0.83      0.83      0.83      1708\n",
            "\n"
          ],
          "name": "stdout"
        }
      ]
    },
    {
      "cell_type": "markdown",
      "metadata": {
        "id": "mT1ZmkkROjAG",
        "colab_type": "text"
      },
      "source": [
        "# Neural network classifier"
      ]
    },
    {
      "cell_type": "code",
      "metadata": {
        "id": "K_5hl4cUJfMf",
        "colab_type": "code",
        "colab": {}
      },
      "source": [
        "def prepare_data2(X_train, y_train, X_test, y_test, batch_size=100):\n",
        "    train_data = torch.utils.data.TensorDataset(\n",
        "        torch.FloatTensor(X_train), \n",
        "        torch.FloatTensor(y_train)\n",
        "    )\n",
        "    val_data = torch.utils.data.TensorDataset(\n",
        "      torch.FloatTensor(X_test), \n",
        "      torch.FloatTensor(y_test)\n",
        "    )\n",
        "    trainloader = torch.utils.data.DataLoader(\n",
        "        train_data, batch_size=batch_size,\n",
        "        shuffle=True)\n",
        "    testloader = torch.utils.data.DataLoader(\n",
        "        val_data, batch_size=batch_size,\n",
        "        shuffle=False)\n",
        "    return trainloader, testloader, train_data, val_data\n",
        "\n",
        "class Maxout(nn.Module):\n",
        "\n",
        "    def __init__(self, d_in, d_out, pool_size):\n",
        "        super().__init__()\n",
        "        self.d_in, self.d_out, self.pool_size = d_in, d_out, pool_size\n",
        "        self.lin = nn.Linear(d_in, d_out * pool_size)\n",
        "\n",
        "    def forward(self, inputs):\n",
        "        shape = list(inputs.size())\n",
        "        shape[-1] = self.d_out\n",
        "        shape.append(self.pool_size)\n",
        "        max_dim = len(shape) - 1\n",
        "        out = self.lin(inputs)\n",
        "        m, i = out.view(*shape).max(max_dim)\n",
        "        return m\n",
        "\n",
        "import torch\n",
        "import torch.nn as nn\n",
        "import torch.nn.functional as F\n",
        "\n",
        "class Net(nn.Module):\n",
        "\n",
        "    def __init__(self, d, max_out_pool):\n",
        "        super(Net, self).__init__()\n",
        "        self.f = nn.Sequential(\n",
        "            Maxout(46, d, max_out_pool),\n",
        "            Maxout(d, d, max_out_pool),\n",
        "            nn.Linear(d, 1)\n",
        "        )\n",
        "\n",
        "    def forward(self, x):\n",
        "        return self.f(x)\n",
        "\n",
        "def proba_tobinary(pred):\n",
        "  return [[1] if x[0] > 0.5 else [0] for x in pred]\n",
        "\n",
        "from sklearn.metrics import accuracy_score, auc, f1_score, hamming_loss, precision_score\n",
        "\n",
        "def validate(model, dl, device=None):\n",
        "    model.eval()\n",
        "    test_loss = 0\n",
        "    accuracy = 0\n",
        "    preds = []\n",
        "    pred_probs = []\n",
        "    all_labels = []\n",
        "    criterion = torch.nn.BCEWithLogitsLoss(reduction='none')\n",
        "    losses = []\n",
        "\n",
        "    with torch.no_grad():\n",
        "        for inputs, labels in dl:\n",
        "            inputs, labels = inputs.to(device), labels.to(device)\n",
        "            pred = model.forward(inputs)\n",
        "            pred_prob = proba_tobinary(torch.nn.Sigmoid()(pred))\n",
        "            batch_loss = criterion(pred.squeeze(1), labels)\n",
        "            all_labels += labels.tolist()\n",
        "            preds += pred.tolist()\n",
        "            pred_probs += pred_prob\n",
        "            losses += batch_loss.tolist()\n",
        "\n",
        "    avg_loss = np.mean(losses)\n",
        "    y_true, y_pred = np.array(all_labels), np.array(pred_probs)\n",
        "    acc = accuracy_score(y_true, y_pred)\n",
        "    f1_sc = f1_score(y_true, y_pred)\n",
        "    precision = precision_score(y_true, y_pred)\n",
        "    hamm_loss = hamming_loss(y_true, y_pred)\n",
        "\n",
        "    return acc, avg_loss, f1_sc, precision, hamm_loss\n",
        "\n",
        "def check_early_stoppping(early_stoping: int, score_history, epoch):\n",
        "  if (len(score_history) == 0): return False\n",
        "  not_improve_counter = 0\n",
        "  best = score_history[0]\n",
        "  for i in range(0, epoch):\n",
        "    if score_history[i] > best:\n",
        "      not_improve_counter = 0\n",
        "      best = score_history[i]\n",
        "    else:\n",
        "      not_improve_counter += 1\n",
        "\n",
        "    if not_improve_counter >= early_stoping:\n",
        "      return True\n",
        "  return False\n",
        "\n",
        "import json\n",
        "\n",
        "def train_model(trainloader, testloader, d, max_out_pool, device=None, early_stop=5, lr=0.002, epochs=200):\n",
        "    EARLY_STOPING = early_stop  # if VAL score do not improves more then this amount of times\n",
        "    steps = 0\n",
        "    running_loss = 0\n",
        "    print_every = 10\n",
        "    train_losses, test_losses = [], []\n",
        "    model = Net(d, max_out_pool).to(device)\n",
        "    optimizer = optim.Adam(model.parameters(), lr=lr)\n",
        "    criterion = torch.nn.BCEWithLogitsLoss() \n",
        "\n",
        "    valid_loss_epocs = {}\n",
        "    acc_epocs = {}\n",
        "    f1_score_epochs = {}\n",
        "    precision_epocs = {}\n",
        "    train_loss_epocs = {}\n",
        "    hamm_loss_epocs = {}\n",
        "    best_params = None\n",
        "    best_score = -200\n",
        "\n",
        "    for epoch in range(epochs):\n",
        "        model.train()\n",
        "        for inputs, labels in trainloader:\n",
        "            steps += 1\n",
        "            inputs, labels = inputs.to(device), labels.to(device)\n",
        "            optimizer.zero_grad()\n",
        "            logps = model.forward(inputs)\n",
        "            loss = criterion(logps.squeeze(1), labels)\n",
        "            loss.backward()\n",
        "            optimizer.step()\n",
        "            running_loss += loss.item()\n",
        "        _, train_loss, _, _, _ = validate(model, trainloader, device)\n",
        "        acc, valid_loss, f1_score_val, precision, hamm_loss = validate(model, testloader, device)\n",
        "        acc_epocs[epoch] = acc\n",
        "        valid_loss_epocs[epoch] = valid_loss\n",
        "        train_loss_epocs[epoch] = train_loss\n",
        "        f1_score_epochs[epoch] = f1_score_val\n",
        "        precision_epocs[epoch] = precision\n",
        "        hamm_loss_epocs[epoch] = hamm_loss\n",
        "\n",
        "        if (best_score < f1_score_val):\n",
        "            torch.save(model.state_dict(), './best.params.bin')\n",
        "            best_score = f1_score_val\n",
        "            # print('best_score', best_score)\n",
        "\n",
        "        if check_early_stoppping(EARLY_STOPING, f1_score_epochs, epoch):\n",
        "            print('early stop training', epoch)\n",
        "            break\n",
        "\n",
        "        # scheduler.step()\n",
        "\n",
        "    model = Net(d, max_out_pool)\n",
        "    model.load_state_dict(torch.load('./best.params.bin'))\n",
        "    model.eval()\n",
        "    return model, acc_epocs, precision_epocs, f1_score_epochs, train_loss_epocs, hamm_loss_epocs, valid_loss_epocs, best_score"
      ],
      "execution_count": 0,
      "outputs": []
    },
    {
      "cell_type": "markdown",
      "metadata": {
        "id": "_0jOE7wIPdGY",
        "colab_type": "text"
      },
      "source": [
        "## Training NN model:"
      ]
    },
    {
      "cell_type": "code",
      "metadata": {
        "id": "hgDAIldEPe2F",
        "colab_type": "code",
        "outputId": "f3ce41e3-eb3c-46aa-8079-9c1a8c9e8a39",
        "colab": {
          "base_uri": "https://localhost:8080/",
          "height": 34
        }
      },
      "source": [
        "trainloader, testloader, train_data, val_data = prepare_data2(X_train, y_train, X_test, y_test)\n",
        "model, acc_epocs, precision_epocs, f1_score_epochs, train_loss_epocs, hamm_loss_epocs, valid_loss_epocs, best_score = train_model(\n",
        "    trainloader, testloader,\n",
        "    d=10, max_out_pool=2,\n",
        "    early_stop=7, lr=0.005,\n",
        "    device = torch.device(\"cuda\" if torch.cuda.is_available() else \"cpu\")\n",
        ")"
      ],
      "execution_count": 44,
      "outputs": [
        {
          "output_type": "stream",
          "text": [
            "early stop training 30\n"
          ],
          "name": "stdout"
        }
      ]
    },
    {
      "cell_type": "markdown",
      "metadata": {
        "id": "uswtyThaUPud",
        "colab_type": "text"
      },
      "source": [
        "## NN classifier evaluation:"
      ]
    },
    {
      "cell_type": "code",
      "metadata": {
        "id": "exyZwX_aUJWq",
        "colab_type": "code",
        "outputId": "7fd36238-2a93-42b8-d731-a1b65a413e0d",
        "colab": {
          "base_uri": "https://localhost:8080/",
          "height": 172
        }
      },
      "source": [
        "y_true = [y.long().item() for x,y in val_data]\n",
        "pred = model(torch.stack([x for x,y in val_data])).squeeze(1)\n",
        "pred = (torch.nn.Sigmoid()(pred) > 0.5).long().tolist()\n",
        "report = classification_report(y_true, pred)\n",
        "print(report)\n"
      ],
      "execution_count": 45,
      "outputs": [
        {
          "output_type": "stream",
          "text": [
            "              precision    recall  f1-score   support\n",
            "\n",
            "           0       0.88      0.87      0.87       963\n",
            "           1       0.86      0.87      0.87       918\n",
            "\n",
            "    accuracy                           0.87      1881\n",
            "   macro avg       0.87      0.87      0.87      1881\n",
            "weighted avg       0.87      0.87      0.87      1881\n",
            "\n"
          ],
          "name": "stdout"
        }
      ]
    },
    {
      "cell_type": "markdown",
      "metadata": {
        "id": "8O8-Nn2tVCPr",
        "colab_type": "text"
      },
      "source": [
        "## Neural network training statistics:"
      ]
    },
    {
      "cell_type": "code",
      "metadata": {
        "id": "4YqlfTaPUOvp",
        "colab_type": "code",
        "outputId": "e9cfc3cb-b6f9-4c07-be88-b328daa72fe5",
        "colab": {
          "base_uri": "https://localhost:8080/",
          "height": 551
        }
      },
      "source": [
        "fig, ax = plt.subplots(figsize=(14, 9))\n",
        "ax.plot(list(acc_epocs.keys()), list(acc_epocs.values()), label=\"Accuracy\")\n",
        "ax.plot(list(f1_score_epochs.keys()), list(f1_score_epochs.values()), label=\"f1_score\")\n",
        "ax.plot(list(precision_epocs.keys()), list(precision_epocs.values()), label=\"precision\")\n",
        "ax.plot(list(hamm_loss_epocs.keys()), list(hamm_loss_epocs.values()), label=\"hamm_loss\")\n",
        "plt.grid(True)\n",
        "ax.set_xlabel('Epoch Number')\n",
        "ax.set_ylabel('Score')\n",
        "plt.legend(loc=\"upper left\")\n",
        "plt.show()\n",
        "fig.savefig(\"Scores_NN.pdf\", bbox_inches='tight')"
      ],
      "execution_count": 46,
      "outputs": [
        {
          "output_type": "display_data",
          "data": {
            "image/png": "[encoded data removed]",
            "text/plain": [
              "<Figure size 1008x648 with 1 Axes>"
            ]
          },
          "metadata": {
            "tags": [],
            "needs_background": "light"
          }
        }
      ]
    },
    {
      "cell_type": "markdown",
      "metadata": {
        "id": "0WbZyTF8Vlvr",
        "colab_type": "text"
      },
      "source": [
        "Here you can see that training loss and validation loss are decreased to epoch to epoch"
      ]
    },
    {
      "cell_type": "code",
      "metadata": {
        "id": "y5uALVVXVHNJ",
        "colab_type": "code",
        "outputId": "b2f22185-8d5c-4e0e-8096-b0a9be4711a5",
        "colab": {
          "base_uri": "https://localhost:8080/",
          "height": 551
        }
      },
      "source": [
        "fig, ax = plt.subplots(figsize=(14, 9))\n",
        "ax.plot(list(train_loss_epocs.keys()), list(train_loss_epocs.values()), label=\"Train loss\")\n",
        "ax.plot(list(valid_loss_epocs.keys()), list(valid_loss_epocs.values()), label=\"Valid loss\")\n",
        "plt.grid(True)\n",
        "ax.set_xlabel('Epoch Number')\n",
        "ax.set_ylabel('Loss for cyclo')\n",
        "plt.legend(loc=\"upper left\")\n",
        "plt.show()\n",
        "fig.savefig(\"Loss.pdf\", bbox_inches='tight')"
      ],
      "execution_count": 47,
      "outputs": [
        {
          "output_type": "display_data",
          "data": {
            "image/png": "[encoded data removed]",
            "text/plain": [
              "<Figure size 1008x648 with 1 Axes>"
            ]
          },
          "metadata": {
            "tags": [],
            "needs_background": "light"
          }
        }
      ]
    },
    {
      "cell_type": "markdown",
      "metadata": {
        "id": "46s7H4UBV3Pz",
        "colab_type": "text"
      },
      "source": [
        "# SVM classifier"
      ]
    },
    {
      "cell_type": "code",
      "metadata": {
        "id": "P-jgTJNmVigY",
        "colab_type": "code",
        "colab": {}
      },
      "source": [
        "import numpy as np\n",
        "from sklearn import datasets, svm\n",
        "import matplotlib.pyplot as plt\n",
        "\n",
        "parameter_candidates = [\n",
        "  {'C': [1, 10, 100, 1000], 'kernel': ['linear']},\n",
        "  {'C': [1, 10, 100, 1000], 'gamma': [0.001, 0.0001], 'kernel': ['rbf']},\n",
        "]\n",
        "\n",
        "clf_svm = GridSearchCV(estimator=svm.SVC(), param_grid=parameter_candidates, n_jobs=-1)\n",
        "clf_svm.fit(X_train, y_train)\n",
        "print(clf_svm.best_params_) "
      ],
      "execution_count": 0,
      "outputs": []
    },
    {
      "cell_type": "code",
      "metadata": {
        "id": "aMUYl6Oljn1o",
        "colab_type": "code",
        "outputId": "8340a960-0b0a-4583-a91f-0e6406618369",
        "colab": {
          "base_uri": "https://localhost:8080/",
          "height": 86
        }
      },
      "source": [
        "svm_best = svm.SVC(**{'C': 1000, 'gamma': 0.001, 'kernel': 'rbf', 'probability': True})\n",
        "svm_best.fit(X_train, y_train)"
      ],
      "execution_count": 48,
      "outputs": [
        {
          "output_type": "execute_result",
          "data": {
            "text/plain": [
              "SVC(C=1000, break_ties=False, cache_size=200, class_weight=None, coef0=0.0,\n",
              "    decision_function_shape='ovr', degree=3, gamma=0.001, kernel='rbf',\n",
              "    max_iter=-1, probability=True, random_state=None, shrinking=True, tol=0.001,\n",
              "    verbose=False)"
            ]
          },
          "metadata": {
            "tags": []
          },
          "execution_count": 48
        }
      ]
    },
    {
      "cell_type": "code",
      "metadata": {
        "id": "lHqthrlxV7S-",
        "colab_type": "code",
        "outputId": "bafcccd4-ef1d-4099-d837-aff80aec33e5",
        "colab": {
          "base_uri": "https://localhost:8080/",
          "height": 172
        }
      },
      "source": [
        "predictions = svm_best.predict(X_test)\n",
        "report = classification_report(y_test, predictions)\n",
        "print(report)"
      ],
      "execution_count": 51,
      "outputs": [
        {
          "output_type": "stream",
          "text": [
            "              precision    recall  f1-score   support\n",
            "\n",
            "           0       0.90      0.85      0.87       963\n",
            "           1       0.85      0.90      0.87       918\n",
            "\n",
            "    accuracy                           0.87      1881\n",
            "   macro avg       0.87      0.87      0.87      1881\n",
            "weighted avg       0.87      0.87      0.87      1881\n",
            "\n"
          ],
          "name": "stdout"
        }
      ]
    },
    {
      "cell_type": "markdown",
      "metadata": {
        "id": "TXSYiE-zcV2C",
        "colab_type": "text"
      },
      "source": [
        "# Pattern's importance ranking approach\n"
      ]
    },
    {
      "cell_type": "markdown",
      "metadata": {
        "id": "m5m7XSdmcSGA",
        "colab_type": "text"
      },
      "source": [
        "Now we can find the largest contribution of a pattern by the following way:\n"
      ]
    },
    {
      "cell_type": "markdown",
      "metadata": {
        "id": "jxHBOMJVinad",
        "colab_type": "text"
      },
      "source": [
        "1. We take as input a vector of patterns of a snippet\n",
        "2. We will produce $N$ new vectors with 1 changed value, where $N$ is the number of non-zero patterns for a Java file.\n",
        "For example, if the input value is the following:\n",
        "\\begin{array}{|l|l|l|l|l|l|l|l|l|l|l|l|l|l|l|l|l|l|l|l|l|l|l|}\n",
        "        \\hline\n",
        "6&0&2&0&0&0&1&1&0&0&0&0&0&0&1&0&0&0&6&5&0&0&1 \\\\ \\hline\n",
        "\\end{array}\n",
        "\n",
        "Changed values are the following:\n",
        "\n",
        "$\n",
        "\\begin{array}{|l|l|l|l|l|l|l|l|l|l|l|l|l|l|l|l|l|l|l|l|l|l|l|}\n",
        "        \\hline\n",
        "pattern\\_index &&&&&&&&&&&&&&&&&&&&&&& \\\\ \\hline\n",
        "0&5&0&2&0&0&0&1&1&0&0&0&0&0&0&1&0&0&0&6&5&0&0&1 \\\\ \\hline\n",
        "2&6&0&1&0&0&0&1&1&0&0&0&0&0&0&1&0&0&0&6&5&0&0&1 \\\\ \\hline\n",
        "6&6&0&2&0&0&0&0&1&0&0&0&0&0&0&1&0&0&0&6&5&0&0&1 \\\\ \\hline\n",
        "7&6&0&2&0&0&0&1&0&0&0&0&0&0&0&1&0&0&0&6&5&0&0&1 \\\\ \\hline\n",
        "14&6&0&2&0&0&0&1&1&0&0&0&0&0&0&0&0&0&0&6&5&0&0&1 \\\\ \\hline\n",
        "18&6&0&2&0&0&0&1&1&0&0&0&0&0&0&1&0&0&0&5&5&0&0&1 \\\\ \\hline\n",
        "19&6&0&2&0&0&0&1&1&0&0&0&0&0&0&1&0&0&0&6&4&0&0&1 \\\\ \\hline\n",
        "22&6&0&2&0&0&0&1&1&0&0&0&0&0&0&1&0&0&0&6&5&0&0&0 \\\\ \\hline\n",
        "\\end{array}\n",
        "$"
      ]
    },
    {
      "cell_type": "markdown",
      "metadata": {
        "id": "OQ9jdfzVn1vv",
        "colab_type": "text"
      },
      "source": [
        "3. We find all combinations between the source array and the vectors given after changing 1 value\n",
        "4. Then we use trained classifier to order each pair to get the `partially ordered set`\n",
        "5. Then we do a *topological sort*."
      ]
    },
    {
      "cell_type": "code",
      "metadata": {
        "id": "rEWUyL5zeqmw",
        "colab_type": "code",
        "colab": {}
      },
      "source": [
        "from itertools import chain, tee\n",
        "import networkx\n",
        "import networkx.algorithms\n",
        "\n",
        "def topological_sort(sublists):\n",
        "    graph = networkx.DiGraph(sublists)\n",
        "    networkx.draw(graph, with_labels=True, font_weight='bold')\n",
        "    return list(networkx.algorithms.topological_sort(graph))"
      ],
      "execution_count": 0,
      "outputs": []
    },
    {
      "cell_type": "code",
      "metadata": {
        "id": "q9HhnrHbiPAk",
        "colab_type": "code",
        "colab": {}
      },
      "source": [
        "import networkx as nx\n",
        "from collections import defaultdict, OrderedDict\n",
        "\n",
        "def rank_patterns(arr, model):\n",
        "  '''\n",
        "  Takes snippet's patterns list and classifier and returns the idecies\n",
        "  of patterns sorted by importance\n",
        "\n",
        "  Args:\n",
        "    arr (List[int]): List of patterns\n",
        "    model: SVM model\n",
        "  \n",
        "  '''\n",
        "  changed_arrs = []\n",
        "  for i, item in enumerate(arr):\n",
        "    elem = arr[i]\n",
        "    if elem <= 0:\n",
        "      continue\n",
        "    else:\n",
        "      arr_new = arr.copy()\n",
        "      arr_new[i] = arr[i] - 1\n",
        "      changed_arrs.append([i, arr_new])\n",
        "  \n",
        "  orders = []\n",
        "  preds = defaultdict(dict)\n",
        "  for elem1, elem2 in combinations(changed_arrs, 2):\n",
        "    index_1 = elem1[0]\n",
        "    index_2 = elem2[0]\n",
        "    input_data = [elem1[1] + elem2[1]]\n",
        "    pred_p = model.predict_proba(input_data)\n",
        "    pred = model.predict(input_data)\n",
        "    if pred == 1:\n",
        "      orders.append([elem1[0], elem2[0]])\n",
        "    else:\n",
        "      orders.append([elem2[0], elem1[0]])\n",
        "\n",
        "  try:\n",
        "    res = topological_sort(orders)\n",
        "    return res\n",
        "  except nx.NetworkXUnfeasible as e:\n",
        "    print('We have a cycle in a graph, use another method')\n",
        "    return 0\n"
      ],
      "execution_count": 0,
      "outputs": []
    },
    {
      "cell_type": "markdown",
      "metadata": {
        "id": "rft2RmxLonh-",
        "colab_type": "text"
      },
      "source": [
        "Here we can see the result of preferences and the graph"
      ]
    },
    {
      "cell_type": "code",
      "metadata": {
        "id": "2GGoiAVcicTC",
        "colab_type": "code",
        "outputId": "d62ab3c9-a28a-4d3f-8afe-b7abab491697",
        "colab": {
          "base_uri": "https://localhost:8080/",
          "height": 353
        }
      },
      "source": [
        "test_val = df[ONLY_PATTERNS].values[2].tolist()\n",
        "print(\"Combinations of patterns to rank:\", test_val)\n",
        "ranked_list = rank_patterns(test_val, svm_best)\n",
        "print('The ranked indicies: ', ranked_list)"
      ],
      "execution_count": 84,
      "outputs": [
        {
          "output_type": "stream",
          "text": [
            "Combinations of patterns to rank: [8, 0, 0, 0, 2, 0, 0, 0, 0, 0, 0, 0, 0, 0, 0, 0, 0, 0, 1, 7, 0, 0, 0]\n",
            "The ranked indicies:  [19, 18, 0, 4]\n"
          ],
          "name": "stdout"
        },
        {
          "output_type": "display_data",
          "data": {
            "image/png": "[encoded data removed]",
            "text/plain": [
              "<Figure size 432x288 with 1 Axes>"
            ]
          },
          "metadata": {
            "tags": []
          }
        }
      ]
    }
  ]
}